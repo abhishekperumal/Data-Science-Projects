{
 "cells": [
  {
   "cell_type": "markdown",
   "metadata": {},
   "source": [
    "#### This Script does \n",
    "- Remove duplicate records\n",
    "- From available data, calculate below things for each customer and include them as features in the dataset. \n",
    "\t- Average order value (AOV)\n",
    "\t- Purchase Frequency (PF)\n",
    "\t- Repeat rate, churn rate\n",
    "\t- Profit margin\n",
    "\t- Customer Value(CV)\n",
    "\t- Customer Life time Value(CLTV)\n",
    "- Remove Outliers\n",
    "- Perform Cross correlation and remove correlated features.\n",
    "##### Regression :\n",
    "- Break dataset into Train and test datasets by considering CLTV as dependent variable.\n",
    "- Predict CLTV using below regression techniques\n",
    "\t- Linear Regression\n",
    "\t- Random Forest Regression\n",
    "\t- Support Vector Regression\n",
    "\t- SVR with RBF Kernal\n",
    "\t- SVR with Polynomial Kernal\n",
    "\t- Bagging\n",
    "\t- Gradient Boosting\n",
    "- Write the predictions for test data from all models to a CSV file.\n",
    "- Write Metrics(R_Square, RMSE) values to a dataframe for better comparison.\n",
    "##### Clustering:\n",
    "- Perform Z-score normalization on the data\n",
    "- Find natural groupings in the dataset using Kmeans and DBscan. \n",
    "- Pick the clusters based on better Sihouette score and better data distribution in clusters.\n",
    "- Assign the clusters to raw dataset(pre-scaling)\n",
    "##### Classification:\n",
    "- Create generic functions for classification and their metrics calculation.\n",
    "- Break dataset into Train and test datasets by considering cluster number as dependent variable. \n",
    "- Goal is to identify the class of a new customer based on existing customers dataset.\n",
    "- Predict Customer Class using below Classification techniques\n",
    "\t- Logistic Regression\n",
    "\t- K Nearest Neighbours\n",
    "\t- Random Forest\n",
    "\t- Support Vector Machine\n",
    "\t- SVM with RBF Kernal\n",
    "\t- SVM with Polynomial Kernal\n",
    "\t- Bagging\n",
    "\t- Gradient Boosting\n",
    "\t- Deep Neural Network\n",
    "- Write the predictions for test data from all models to a CSV file.\n",
    "- Write AUC ROC Scores from all models to a dataframe for better comparison.\n",
    "- Additional work \n",
    "- Balance the dataset for classification using SMOTE techinque\n",
    "- Predict Customer Class using same classification techique tried above."
   ]
  },
  {
   "cell_type": "code",
   "execution_count": 1,
   "metadata": {},
   "outputs": [
    {
     "name": "stderr",
     "output_type": "stream",
     "text": [
      "/home/kartikey/anaconda3/lib/python3.7/site-packages/statsmodels/tools/_testing.py:19: FutureWarning: pandas.util.testing is deprecated. Use the functions in the public API at pandas.testing instead.\n",
      "  import pandas.util.testing as tm\n"
     ]
    },
    {
     "name": "stdout",
     "output_type": "stream",
     "text": [
      "pandas: 1.0.5\n",
      "numpy: 1.19.2\n"
     ]
    }
   ],
   "source": [
    "import pandas as pd\n",
    "import datetime\n",
    "import math\n",
    "import numpy as np\n",
    "import os\n",
    "from datetime import timedelta\n",
    "import math\n",
    "import matplotlib.pyplot as plt\n",
    "import matplotlib.mlab as mlab\n",
    "import matplotlib.cm as cm\n",
    "\n",
    "%matplotlib inline\n",
    "\n",
    "import seaborn as sns\n",
    "sns.set(style=\"ticks\", color_codes=True, font_scale=1.5)\n",
    "color = sns.color_palette()\n",
    "sns.set_style('darkgrid')\n",
    "\n",
    "from scipy import stats\n",
    "from sklearn import preprocessing\n",
    "from sklearn.preprocessing import StandardScaler\n",
    "\n",
    "print('pandas: {}'.format(pd.__version__)) # Printing the version of pandas\n",
    "print('numpy: {}'.format(np.__version__)) # Printing the version of Numpy"
   ]
  },
  {
   "cell_type": "code",
   "execution_count": 2,
   "metadata": {},
   "outputs": [
    {
     "name": "stdout",
     "output_type": "stream",
     "text": [
      "Dataframe dimensions: (379095, 14)\n"
     ]
    }
   ],
   "source": [
    "# Data read - All Required data  are in datafolder\n",
    "InputdataFolder  = os.getcwd() + \"/DataStack\"\n",
    "OutputdataFolder = os.getcwd() + \"/Output\"\n",
    "\n",
    "\n",
    "df_initial = pd.read_csv(OutputdataFolder + \"/Capstone_Customer_Retail_Analytics_Pass-1.csv\", parse_dates=['InvoiceDate'])\n",
    "\n",
    "print('Dataframe dimensions:', df_initial.shape)"
   ]
  },
  {
   "cell_type": "code",
   "execution_count": 3,
   "metadata": {
    "scrolled": true
   },
   "outputs": [
    {
     "data": {
      "text/plain": [
       "Index(['InvoiceNo', 'ItemCode', 'item_Desc', 'Quantity', 'InvoiceDate',\n",
       "       'UnitPrice', 'CustomerID', 'CustomerName', 'Country',\n",
       "       'InvoiceYearMonth', 'Revenue', 'MinPurchaseDate',\n",
       "       'MinPurchaseYearMonth', 'UserType'],\n",
       "      dtype='object')"
      ]
     },
     "execution_count": 3,
     "metadata": {},
     "output_type": "execute_result"
    }
   ],
   "source": [
    "df_initial.columns"
   ]
  },
  {
   "cell_type": "code",
   "execution_count": 4,
   "metadata": {},
   "outputs": [
    {
     "data": {
      "text/html": [
       "<div>\n",
       "<style scoped>\n",
       "    .dataframe tbody tr th:only-of-type {\n",
       "        vertical-align: middle;\n",
       "    }\n",
       "\n",
       "    .dataframe tbody tr th {\n",
       "        vertical-align: top;\n",
       "    }\n",
       "\n",
       "    .dataframe thead th {\n",
       "        text-align: right;\n",
       "    }\n",
       "</style>\n",
       "<table border=\"1\" class=\"dataframe\">\n",
       "  <thead>\n",
       "    <tr style=\"text-align: right;\">\n",
       "      <th></th>\n",
       "      <th>InvoiceNo</th>\n",
       "      <th>ItemCode</th>\n",
       "      <th>item_Desc</th>\n",
       "      <th>Quantity</th>\n",
       "      <th>InvoiceDate</th>\n",
       "      <th>UnitPrice</th>\n",
       "      <th>CustomerID</th>\n",
       "      <th>CustomerName</th>\n",
       "      <th>Country</th>\n",
       "      <th>InvoiceYearMonth</th>\n",
       "      <th>Revenue</th>\n",
       "      <th>MinPurchaseDate</th>\n",
       "      <th>MinPurchaseYearMonth</th>\n",
       "      <th>UserType</th>\n",
       "    </tr>\n",
       "  </thead>\n",
       "  <tbody>\n",
       "    <tr>\n",
       "      <th>0</th>\n",
       "      <td>536365</td>\n",
       "      <td>10742201412</td>\n",
       "      <td>Microclimate Headband-Black/Black</td>\n",
       "      <td>6</td>\n",
       "      <td>2010-12-01 08:26:00</td>\n",
       "      <td>2.55</td>\n",
       "      <td>17850.0</td>\n",
       "      <td>Matthew-Clark</td>\n",
       "      <td>Argentina.</td>\n",
       "      <td>2010-12</td>\n",
       "      <td>15.30</td>\n",
       "      <td>2010-12-01 08:26:00</td>\n",
       "      <td>2010-12</td>\n",
       "      <td>New</td>\n",
       "    </tr>\n",
       "    <tr>\n",
       "      <th>1</th>\n",
       "      <td>536365</td>\n",
       "      <td>10742201610</td>\n",
       "      <td>Microclimate Headband-Blazing Orange/Charcoal</td>\n",
       "      <td>6</td>\n",
       "      <td>2010-12-01 08:26:00</td>\n",
       "      <td>3.39</td>\n",
       "      <td>17850.0</td>\n",
       "      <td>Matthew-Clark</td>\n",
       "      <td>Argentina.</td>\n",
       "      <td>2010-12</td>\n",
       "      <td>20.34</td>\n",
       "      <td>2010-12-01 08:26:00</td>\n",
       "      <td>2010-12</td>\n",
       "      <td>New</td>\n",
       "    </tr>\n",
       "    <tr>\n",
       "      <th>2</th>\n",
       "      <td>536365</td>\n",
       "      <td>10742201719</td>\n",
       "      <td>Microclimate Headband-Coral Rose/Charcoal</td>\n",
       "      <td>8</td>\n",
       "      <td>2010-12-01 08:26:00</td>\n",
       "      <td>2.75</td>\n",
       "      <td>17850.0</td>\n",
       "      <td>Matthew-Clark</td>\n",
       "      <td>Argentina.</td>\n",
       "      <td>2010-12</td>\n",
       "      <td>22.00</td>\n",
       "      <td>2010-12-01 08:26:00</td>\n",
       "      <td>2010-12</td>\n",
       "      <td>New</td>\n",
       "    </tr>\n",
       "    <tr>\n",
       "      <th>3</th>\n",
       "      <td>536365</td>\n",
       "      <td>10742201818</td>\n",
       "      <td>SF-2 LS-Small</td>\n",
       "      <td>6</td>\n",
       "      <td>2010-12-01 08:26:00</td>\n",
       "      <td>3.39</td>\n",
       "      <td>17850.0</td>\n",
       "      <td>Matthew-Clark</td>\n",
       "      <td>Argentina.</td>\n",
       "      <td>2010-12</td>\n",
       "      <td>20.34</td>\n",
       "      <td>2010-12-01 08:26:00</td>\n",
       "      <td>2010-12</td>\n",
       "      <td>New</td>\n",
       "    </tr>\n",
       "    <tr>\n",
       "      <th>4</th>\n",
       "      <td>536365</td>\n",
       "      <td>10742202211</td>\n",
       "      <td>SF-2 LS-Medium</td>\n",
       "      <td>6</td>\n",
       "      <td>2010-12-01 08:26:00</td>\n",
       "      <td>3.39</td>\n",
       "      <td>17850.0</td>\n",
       "      <td>Matthew-Clark</td>\n",
       "      <td>Argentina.</td>\n",
       "      <td>2010-12</td>\n",
       "      <td>20.34</td>\n",
       "      <td>2010-12-01 08:26:00</td>\n",
       "      <td>2010-12</td>\n",
       "      <td>New</td>\n",
       "    </tr>\n",
       "  </tbody>\n",
       "</table>\n",
       "</div>"
      ],
      "text/plain": [
       "   InvoiceNo     ItemCode                                      item_Desc  \\\n",
       "0     536365  10742201412              Microclimate Headband-Black/Black   \n",
       "1     536365  10742201610  Microclimate Headband-Blazing Orange/Charcoal   \n",
       "2     536365  10742201719      Microclimate Headband-Coral Rose/Charcoal   \n",
       "3     536365  10742201818                                  SF-2 LS-Small   \n",
       "4     536365  10742202211                                 SF-2 LS-Medium   \n",
       "\n",
       "   Quantity         InvoiceDate  UnitPrice  CustomerID   CustomerName  \\\n",
       "0         6 2010-12-01 08:26:00       2.55     17850.0  Matthew-Clark   \n",
       "1         6 2010-12-01 08:26:00       3.39     17850.0  Matthew-Clark   \n",
       "2         8 2010-12-01 08:26:00       2.75     17850.0  Matthew-Clark   \n",
       "3         6 2010-12-01 08:26:00       3.39     17850.0  Matthew-Clark   \n",
       "4         6 2010-12-01 08:26:00       3.39     17850.0  Matthew-Clark   \n",
       "\n",
       "      Country InvoiceYearMonth  Revenue      MinPurchaseDate  \\\n",
       "0  Argentina.          2010-12    15.30  2010-12-01 08:26:00   \n",
       "1  Argentina.          2010-12    20.34  2010-12-01 08:26:00   \n",
       "2  Argentina.          2010-12    22.00  2010-12-01 08:26:00   \n",
       "3  Argentina.          2010-12    20.34  2010-12-01 08:26:00   \n",
       "4  Argentina.          2010-12    20.34  2010-12-01 08:26:00   \n",
       "\n",
       "  MinPurchaseYearMonth UserType  \n",
       "0              2010-12      New  \n",
       "1              2010-12      New  \n",
       "2              2010-12      New  \n",
       "3              2010-12      New  \n",
       "4              2010-12      New  "
      ]
     },
     "execution_count": 4,
     "metadata": {},
     "output_type": "execute_result"
    }
   ],
   "source": [
    "df_initial.head()"
   ]
  },
  {
   "cell_type": "code",
   "execution_count": 5,
   "metadata": {
    "scrolled": true
   },
   "outputs": [
    {
     "data": {
      "text/plain": [
       "InvoiceNo                        int64\n",
       "ItemCode                         int64\n",
       "item_Desc                       object\n",
       "Quantity                         int64\n",
       "InvoiceDate             datetime64[ns]\n",
       "UnitPrice                      float64\n",
       "CustomerID                     float64\n",
       "CustomerName                    object\n",
       "Country                         object\n",
       "InvoiceYearMonth                object\n",
       "Revenue                        float64\n",
       "MinPurchaseDate                 object\n",
       "MinPurchaseYearMonth            object\n",
       "UserType                        object\n",
       "dtype: object"
      ]
     },
     "execution_count": 5,
     "metadata": {},
     "output_type": "execute_result"
    }
   ],
   "source": [
    "df_initial.dtypes"
   ]
  },
  {
   "cell_type": "code",
   "execution_count": 6,
   "metadata": {
    "collapsed": true
   },
   "outputs": [],
   "source": [
    "# CustomerID from float to int\n",
    "df_initial['CustomerID'] = df_initial['CustomerID'].apply(lambda x: int(x))"
   ]
  },
  {
   "cell_type": "code",
   "execution_count": 7,
   "metadata": {},
   "outputs": [
    {
     "data": {
      "text/plain": [
       "(374184, 14)"
      ]
     },
     "execution_count": 7,
     "metadata": {},
     "output_type": "execute_result"
    }
   ],
   "source": [
    "# Drop duplicates\n",
    "df_initial.drop_duplicates(keep='last',inplace=True)\n",
    "df_initial.shape"
   ]
  },
  {
   "cell_type": "code",
   "execution_count": 8,
   "metadata": {},
   "outputs": [
    {
     "data": {
      "text/html": [
       "<div>\n",
       "<style scoped>\n",
       "    .dataframe tbody tr th:only-of-type {\n",
       "        vertical-align: middle;\n",
       "    }\n",
       "\n",
       "    .dataframe tbody tr th {\n",
       "        vertical-align: top;\n",
       "    }\n",
       "\n",
       "    .dataframe thead th {\n",
       "        text-align: right;\n",
       "    }\n",
       "</style>\n",
       "<table border=\"1\" class=\"dataframe\">\n",
       "  <thead>\n",
       "    <tr style=\"text-align: right;\">\n",
       "      <th></th>\n",
       "      <th>Percent of total Transactions</th>\n",
       "    </tr>\n",
       "    <tr>\n",
       "      <th>Country</th>\n",
       "      <th></th>\n",
       "    </tr>\n",
       "  </thead>\n",
       "  <tbody>\n",
       "    <tr>\n",
       "      <th>Argentina.</th>\n",
       "      <td>89.089058</td>\n",
       "    </tr>\n",
       "    <tr>\n",
       "      <th>Australia</th>\n",
       "      <td>2.060751</td>\n",
       "    </tr>\n",
       "    <tr>\n",
       "      <th>Austria</th>\n",
       "      <td>0.315353</td>\n",
       "    </tr>\n",
       "    <tr>\n",
       "      <th>Bahrain</th>\n",
       "      <td>0.597567</td>\n",
       "    </tr>\n",
       "    <tr>\n",
       "      <th>Belgium</th>\n",
       "      <td>2.490486</td>\n",
       "    </tr>\n",
       "  </tbody>\n",
       "</table>\n",
       "</div>"
      ],
      "text/plain": [
       "            Percent of total Transactions\n",
       "Country                                  \n",
       "Argentina.                      89.089058\n",
       "Australia                        2.060751\n",
       "Austria                          0.315353\n",
       "Bahrain                          0.597567\n",
       "Belgium                          2.490486"
      ]
     },
     "execution_count": 8,
     "metadata": {},
     "output_type": "execute_result"
    }
   ],
   "source": [
    "# Countrywise distribution of number of transactions\n",
    "temp = df_initial.groupby(['Country']).agg({'InvoiceNo' : lambda x: 100*len(x)/len(df_initial) })\n",
    "temp.rename(columns={\"InvoiceNo\":\"Percent of total Transactions\"},inplace=True)\n",
    "# See top five countries\n",
    "temp.head()"
   ]
  },
  {
   "cell_type": "markdown",
   "metadata": {},
   "source": [
    "#### We analyse only Argentina as it has almost 90% of all transactions"
   ]
  },
  {
   "cell_type": "code",
   "execution_count": 9,
   "metadata": {},
   "outputs": [
    {
     "data": {
      "text/html": [
       "<div>\n",
       "<style scoped>\n",
       "    .dataframe tbody tr th:only-of-type {\n",
       "        vertical-align: middle;\n",
       "    }\n",
       "\n",
       "    .dataframe tbody tr th {\n",
       "        vertical-align: top;\n",
       "    }\n",
       "\n",
       "    .dataframe thead th {\n",
       "        text-align: right;\n",
       "    }\n",
       "</style>\n",
       "<table border=\"1\" class=\"dataframe\">\n",
       "  <thead>\n",
       "    <tr style=\"text-align: right;\">\n",
       "      <th></th>\n",
       "      <th>InvoiceNo</th>\n",
       "      <th>ItemCode</th>\n",
       "      <th>Quantity</th>\n",
       "      <th>UnitPrice</th>\n",
       "      <th>CustomerID</th>\n",
       "      <th>Revenue</th>\n",
       "    </tr>\n",
       "  </thead>\n",
       "  <tbody>\n",
       "    <tr>\n",
       "      <th>count</th>\n",
       "      <td>333357.000000</td>\n",
       "      <td>3.333570e+05</td>\n",
       "      <td>333357.000000</td>\n",
       "      <td>333357.000000</td>\n",
       "      <td>333357.000000</td>\n",
       "      <td>333357.000000</td>\n",
       "    </tr>\n",
       "    <tr>\n",
       "      <th>mean</th>\n",
       "      <td>559710.838284</td>\n",
       "      <td>7.853990e+11</td>\n",
       "      <td>11.923730</td>\n",
       "      <td>2.879251</td>\n",
       "      <td>15550.817736</td>\n",
       "      <td>20.317479</td>\n",
       "    </tr>\n",
       "    <tr>\n",
       "      <th>std</th>\n",
       "      <td>12698.893922</td>\n",
       "      <td>1.936002e+12</td>\n",
       "      <td>135.285583</td>\n",
       "      <td>4.401943</td>\n",
       "      <td>1591.743240</td>\n",
       "      <td>165.122170</td>\n",
       "    </tr>\n",
       "    <tr>\n",
       "      <th>min</th>\n",
       "      <td>536365.000000</td>\n",
       "      <td>2.000882e+07</td>\n",
       "      <td>1.000000</td>\n",
       "      <td>0.040000</td>\n",
       "      <td>12346.000000</td>\n",
       "      <td>0.060000</td>\n",
       "    </tr>\n",
       "    <tr>\n",
       "      <th>25%</th>\n",
       "      <td>548659.000000</td>\n",
       "      <td>2.040486e+07</td>\n",
       "      <td>2.000000</td>\n",
       "      <td>1.250000</td>\n",
       "      <td>14198.000000</td>\n",
       "      <td>4.200000</td>\n",
       "    </tr>\n",
       "    <tr>\n",
       "      <th>50%</th>\n",
       "      <td>560732.000000</td>\n",
       "      <td>2.053730e+07</td>\n",
       "      <td>4.000000</td>\n",
       "      <td>1.950000</td>\n",
       "      <td>15521.000000</td>\n",
       "      <td>10.440000</td>\n",
       "    </tr>\n",
       "    <tr>\n",
       "      <th>75%</th>\n",
       "      <td>571039.000000</td>\n",
       "      <td>4.155463e+10</td>\n",
       "      <td>12.000000</td>\n",
       "      <td>3.750000</td>\n",
       "      <td>16931.000000</td>\n",
       "      <td>17.850000</td>\n",
       "    </tr>\n",
       "    <tr>\n",
       "      <th>max</th>\n",
       "      <td>579885.000000</td>\n",
       "      <td>9.311010e+12</td>\n",
       "      <td>74215.000000</td>\n",
       "      <td>649.500000</td>\n",
       "      <td>18287.000000</td>\n",
       "      <td>77183.600000</td>\n",
       "    </tr>\n",
       "  </tbody>\n",
       "</table>\n",
       "</div>"
      ],
      "text/plain": [
       "           InvoiceNo      ItemCode       Quantity      UnitPrice  \\\n",
       "count  333357.000000  3.333570e+05  333357.000000  333357.000000   \n",
       "mean   559710.838284  7.853990e+11      11.923730       2.879251   \n",
       "std     12698.893922  1.936002e+12     135.285583       4.401943   \n",
       "min    536365.000000  2.000882e+07       1.000000       0.040000   \n",
       "25%    548659.000000  2.040486e+07       2.000000       1.250000   \n",
       "50%    560732.000000  2.053730e+07       4.000000       1.950000   \n",
       "75%    571039.000000  4.155463e+10      12.000000       3.750000   \n",
       "max    579885.000000  9.311010e+12   74215.000000     649.500000   \n",
       "\n",
       "          CustomerID        Revenue  \n",
       "count  333357.000000  333357.000000  \n",
       "mean    15550.817736      20.317479  \n",
       "std      1591.743240     165.122170  \n",
       "min     12346.000000       0.060000  \n",
       "25%     14198.000000       4.200000  \n",
       "50%     15521.000000      10.440000  \n",
       "75%     16931.000000      17.850000  \n",
       "max     18287.000000   77183.600000  "
      ]
     },
     "execution_count": 9,
     "metadata": {},
     "output_type": "execute_result"
    }
   ],
   "source": [
    "Argen_trans = df_initial[df_initial['Country']=='Argentina.']\n",
    "Argen_trans.describe()"
   ]
  },
  {
   "cell_type": "code",
   "execution_count": 10,
   "metadata": {},
   "outputs": [
    {
     "data": {
      "text/html": [
       "<div>\n",
       "<style scoped>\n",
       "    .dataframe tbody tr th:only-of-type {\n",
       "        vertical-align: middle;\n",
       "    }\n",
       "\n",
       "    .dataframe tbody tr th {\n",
       "        vertical-align: top;\n",
       "    }\n",
       "\n",
       "    .dataframe thead th {\n",
       "        text-align: right;\n",
       "    }\n",
       "</style>\n",
       "<table border=\"1\" class=\"dataframe\">\n",
       "  <thead>\n",
       "    <tr style=\"text-align: right;\">\n",
       "      <th></th>\n",
       "      <th>CustomerID</th>\n",
       "      <th>InvoiceNo</th>\n",
       "      <th>InvoiceDate</th>\n",
       "      <th>Quantity</th>\n",
       "      <th>UnitPrice</th>\n",
       "      <th>Revenue</th>\n",
       "    </tr>\n",
       "  </thead>\n",
       "  <tbody>\n",
       "    <tr>\n",
       "      <th>0</th>\n",
       "      <td>17850</td>\n",
       "      <td>536365</td>\n",
       "      <td>2010-12-01 08:26:00</td>\n",
       "      <td>6</td>\n",
       "      <td>2.55</td>\n",
       "      <td>15.30</td>\n",
       "    </tr>\n",
       "    <tr>\n",
       "      <th>1</th>\n",
       "      <td>17850</td>\n",
       "      <td>536365</td>\n",
       "      <td>2010-12-01 08:26:00</td>\n",
       "      <td>6</td>\n",
       "      <td>3.39</td>\n",
       "      <td>20.34</td>\n",
       "    </tr>\n",
       "    <tr>\n",
       "      <th>2</th>\n",
       "      <td>17850</td>\n",
       "      <td>536365</td>\n",
       "      <td>2010-12-01 08:26:00</td>\n",
       "      <td>8</td>\n",
       "      <td>2.75</td>\n",
       "      <td>22.00</td>\n",
       "    </tr>\n",
       "    <tr>\n",
       "      <th>3</th>\n",
       "      <td>17850</td>\n",
       "      <td>536365</td>\n",
       "      <td>2010-12-01 08:26:00</td>\n",
       "      <td>6</td>\n",
       "      <td>3.39</td>\n",
       "      <td>20.34</td>\n",
       "    </tr>\n",
       "    <tr>\n",
       "      <th>4</th>\n",
       "      <td>17850</td>\n",
       "      <td>536365</td>\n",
       "      <td>2010-12-01 08:26:00</td>\n",
       "      <td>6</td>\n",
       "      <td>3.39</td>\n",
       "      <td>20.34</td>\n",
       "    </tr>\n",
       "  </tbody>\n",
       "</table>\n",
       "</div>"
      ],
      "text/plain": [
       "   CustomerID  InvoiceNo         InvoiceDate  Quantity  UnitPrice  Revenue\n",
       "0       17850     536365 2010-12-01 08:26:00         6       2.55    15.30\n",
       "1       17850     536365 2010-12-01 08:26:00         6       3.39    20.34\n",
       "2       17850     536365 2010-12-01 08:26:00         8       2.75    22.00\n",
       "3       17850     536365 2010-12-01 08:26:00         6       3.39    20.34\n",
       "4       17850     536365 2010-12-01 08:26:00         6       3.39    20.34"
      ]
     },
     "execution_count": 10,
     "metadata": {},
     "output_type": "execute_result"
    }
   ],
   "source": [
    "# Need only these columns for CLTV computation\n",
    "req_columns = ['CustomerID','InvoiceNo','InvoiceDate','Quantity','UnitPrice','Revenue']\n",
    "Argen_trans = Argen_trans.reindex(columns=req_columns)\n",
    "Argen_trans.head()"
   ]
  },
  {
   "cell_type": "code",
   "execution_count": 11,
   "metadata": {
    "scrolled": true
   },
   "outputs": [
    {
     "data": {
      "text/plain": [
       "CustomerID              int64\n",
       "InvoiceNo               int64\n",
       "InvoiceDate    datetime64[ns]\n",
       "Quantity                int64\n",
       "UnitPrice             float64\n",
       "Revenue               float64\n",
       "dtype: object"
      ]
     },
     "execution_count": 11,
     "metadata": {},
     "output_type": "execute_result"
    }
   ],
   "source": [
    "Argen_trans.dtypes"
   ]
  },
  {
   "cell_type": "code",
   "execution_count": 12,
   "metadata": {},
   "outputs": [
    {
     "data": {
      "text/plain": [
       "(333357, 6)"
      ]
     },
     "execution_count": 12,
     "metadata": {},
     "output_type": "execute_result"
    }
   ],
   "source": [
    "Argen_trans.shape"
   ]
  },
  {
   "cell_type": "markdown",
   "metadata": {},
   "source": [
    "### CLTV = ((Average Order Value x Purchase Frequency)/Churn Rate) * Profit_margin\n",
    "    - Average order value of customer (AOV) = Total Revenue of customer/ Total number of transactions by customer\n",
    "    - Purchase frequency of customer(PF) = Total number of transactions by customer/ Total number of customers\n",
    "    - Repeat rate = Number of customer with more than 1 order / Unique number of customer\n",
    "    - Churn rate = 1 - Repeat rate\n",
    "    - Profit Margin of customer = Approximate profit on total sale * Total revenue of customer\n",
    "    - Customer Value (CV)  = (AOV * PF)/churn rate\n",
    "    - Customer Lifetime Value (CLTV) = CV * Profit Margin"
   ]
  },
  {
   "cell_type": "code",
   "execution_count": 13,
   "metadata": {},
   "outputs": [
    {
     "data": {
      "text/html": [
       "<div>\n",
       "<style scoped>\n",
       "    .dataframe tbody tr th:only-of-type {\n",
       "        vertical-align: middle;\n",
       "    }\n",
       "\n",
       "    .dataframe tbody tr th {\n",
       "        vertical-align: top;\n",
       "    }\n",
       "\n",
       "    .dataframe thead th {\n",
       "        text-align: right;\n",
       "    }\n",
       "</style>\n",
       "<table border=\"1\" class=\"dataframe\">\n",
       "  <thead>\n",
       "    <tr style=\"text-align: right;\">\n",
       "      <th></th>\n",
       "      <th>num_days_involved</th>\n",
       "      <th>num_transactions</th>\n",
       "      <th>num_units</th>\n",
       "      <th>money_spent</th>\n",
       "    </tr>\n",
       "    <tr>\n",
       "      <th>CustomerID</th>\n",
       "      <th></th>\n",
       "      <th></th>\n",
       "      <th></th>\n",
       "      <th></th>\n",
       "    </tr>\n",
       "  </thead>\n",
       "  <tbody>\n",
       "    <tr>\n",
       "      <th>12346</th>\n",
       "      <td>0</td>\n",
       "      <td>1</td>\n",
       "      <td>74215</td>\n",
       "      <td>77183.60</td>\n",
       "    </tr>\n",
       "    <tr>\n",
       "      <th>12747</th>\n",
       "      <td>347</td>\n",
       "      <td>96</td>\n",
       "      <td>1153</td>\n",
       "      <td>3757.51</td>\n",
       "    </tr>\n",
       "    <tr>\n",
       "      <th>12748</th>\n",
       "      <td>363</td>\n",
       "      <td>4105</td>\n",
       "      <td>24393</td>\n",
       "      <td>30652.63</td>\n",
       "    </tr>\n",
       "    <tr>\n",
       "      <th>12749</th>\n",
       "      <td>190</td>\n",
       "      <td>159</td>\n",
       "      <td>1243</td>\n",
       "      <td>3277.82</td>\n",
       "    </tr>\n",
       "    <tr>\n",
       "      <th>12820</th>\n",
       "      <td>282</td>\n",
       "      <td>47</td>\n",
       "      <td>607</td>\n",
       "      <td>731.99</td>\n",
       "    </tr>\n",
       "  </tbody>\n",
       "</table>\n",
       "</div>"
      ],
      "text/plain": [
       "            num_days_involved  num_transactions  num_units  money_spent\n",
       "CustomerID                                                             \n",
       "12346                       0                 1      74215     77183.60\n",
       "12747                     347                96       1153      3757.51\n",
       "12748                     363              4105      24393     30652.63\n",
       "12749                     190               159       1243      3277.82\n",
       "12820                     282                47        607       731.99"
      ]
     },
     "execution_count": 13,
     "metadata": {},
     "output_type": "execute_result"
    }
   ],
   "source": [
    "trans_group = Argen_trans.groupby('CustomerID').agg({'InvoiceDate': lambda x: (x.max()-x.min()).days, # Number of days of involvement by customer\n",
    "                                 'InvoiceNo': lambda x: len(x), # Total number of transactions of customer\n",
    "                                 'Quantity' : lambda x: sum(x), # Total number of units bought by customer\n",
    "                                 'Revenue': lambda x: sum(x)    # Total revenue of customer\n",
    "                                })\n",
    "trans_group.rename(columns={\"InvoiceDate\":\"num_days_involved\", \"InvoiceNo\":\"num_transactions\", \"Quantity\":\"num_units\", \"Revenue\":\"money_spent\"}, inplace=True)\n",
    "trans_group.head()"
   ]
  },
  {
   "cell_type": "code",
   "execution_count": 14,
   "metadata": {},
   "outputs": [
    {
     "data": {
      "text/html": [
       "<div>\n",
       "<style scoped>\n",
       "    .dataframe tbody tr th:only-of-type {\n",
       "        vertical-align: middle;\n",
       "    }\n",
       "\n",
       "    .dataframe tbody tr th {\n",
       "        vertical-align: top;\n",
       "    }\n",
       "\n",
       "    .dataframe thead th {\n",
       "        text-align: right;\n",
       "    }\n",
       "</style>\n",
       "<table border=\"1\" class=\"dataframe\">\n",
       "  <thead>\n",
       "    <tr style=\"text-align: right;\">\n",
       "      <th></th>\n",
       "      <th>num_days_involved</th>\n",
       "      <th>num_transactions</th>\n",
       "      <th>num_units</th>\n",
       "      <th>money_spent</th>\n",
       "      <th>AOV</th>\n",
       "    </tr>\n",
       "    <tr>\n",
       "      <th>CustomerID</th>\n",
       "      <th></th>\n",
       "      <th></th>\n",
       "      <th></th>\n",
       "      <th></th>\n",
       "      <th></th>\n",
       "    </tr>\n",
       "  </thead>\n",
       "  <tbody>\n",
       "    <tr>\n",
       "      <th>12346</th>\n",
       "      <td>0</td>\n",
       "      <td>1</td>\n",
       "      <td>74215</td>\n",
       "      <td>77183.60</td>\n",
       "      <td>77183.600000</td>\n",
       "    </tr>\n",
       "    <tr>\n",
       "      <th>12747</th>\n",
       "      <td>347</td>\n",
       "      <td>96</td>\n",
       "      <td>1153</td>\n",
       "      <td>3757.51</td>\n",
       "      <td>39.140729</td>\n",
       "    </tr>\n",
       "    <tr>\n",
       "      <th>12748</th>\n",
       "      <td>363</td>\n",
       "      <td>4105</td>\n",
       "      <td>24393</td>\n",
       "      <td>30652.63</td>\n",
       "      <td>7.467145</td>\n",
       "    </tr>\n",
       "    <tr>\n",
       "      <th>12749</th>\n",
       "      <td>190</td>\n",
       "      <td>159</td>\n",
       "      <td>1243</td>\n",
       "      <td>3277.82</td>\n",
       "      <td>20.615220</td>\n",
       "    </tr>\n",
       "    <tr>\n",
       "      <th>12820</th>\n",
       "      <td>282</td>\n",
       "      <td>47</td>\n",
       "      <td>607</td>\n",
       "      <td>731.99</td>\n",
       "      <td>15.574255</td>\n",
       "    </tr>\n",
       "  </tbody>\n",
       "</table>\n",
       "</div>"
      ],
      "text/plain": [
       "            num_days_involved  num_transactions  num_units  money_spent  \\\n",
       "CustomerID                                                                \n",
       "12346                       0                 1      74215     77183.60   \n",
       "12747                     347                96       1153      3757.51   \n",
       "12748                     363              4105      24393     30652.63   \n",
       "12749                     190               159       1243      3277.82   \n",
       "12820                     282                47        607       731.99   \n",
       "\n",
       "                     AOV  \n",
       "CustomerID                \n",
       "12346       77183.600000  \n",
       "12747          39.140729  \n",
       "12748           7.467145  \n",
       "12749          20.615220  \n",
       "12820          15.574255  "
      ]
     },
     "execution_count": 14,
     "metadata": {},
     "output_type": "execute_result"
    }
   ],
   "source": [
    "# Average order value calculation\n",
    "trans_group['AOV'] = trans_group['money_spent']/trans_group['num_transactions']\n",
    "trans_group.head()"
   ]
  },
  {
   "cell_type": "code",
   "execution_count": 15,
   "metadata": {
    "collapsed": true
   },
   "outputs": [],
   "source": [
    "# Purchase Frequency calculation\n",
    "purchase_frequency = sum(trans_group['num_transactions']/len(trans_group))\n",
    "\n",
    "# Repeat rate calculation\n",
    "repeat_rate = trans_group[trans_group['num_transactions']>1].shape[0]/len(trans_group.index)\n",
    "\n",
    "#Churn rate calculation\n",
    "churn_rate  = 1 - repeat_rate"
   ]
  },
  {
   "cell_type": "code",
   "execution_count": 16,
   "metadata": {},
   "outputs": [
    {
     "name": "stdout",
     "output_type": "stream",
     "text": [
      "Purchase frequency : 85.87248840803852\n",
      "Repeat rate : 0.9827408552292632\n",
      "Churn rate : 0.017259144770736756\n"
     ]
    }
   ],
   "source": [
    "print(f\"Purchase frequency : {purchase_frequency}\")\n",
    "print(f\"Repeat rate : {repeat_rate}\")\n",
    "print(f\"Churn rate : {churn_rate}\")"
   ]
  },
  {
   "cell_type": "code",
   "execution_count": 17,
   "metadata": {},
   "outputs": [
    {
     "data": {
      "text/html": [
       "<div>\n",
       "<style scoped>\n",
       "    .dataframe tbody tr th:only-of-type {\n",
       "        vertical-align: middle;\n",
       "    }\n",
       "\n",
       "    .dataframe tbody tr th {\n",
       "        vertical-align: top;\n",
       "    }\n",
       "\n",
       "    .dataframe thead th {\n",
       "        text-align: right;\n",
       "    }\n",
       "</style>\n",
       "<table border=\"1\" class=\"dataframe\">\n",
       "  <thead>\n",
       "    <tr style=\"text-align: right;\">\n",
       "      <th></th>\n",
       "      <th>num_days_involved</th>\n",
       "      <th>num_transactions</th>\n",
       "      <th>num_units</th>\n",
       "      <th>money_spent</th>\n",
       "      <th>AOV</th>\n",
       "      <th>profit_margin</th>\n",
       "    </tr>\n",
       "    <tr>\n",
       "      <th>CustomerID</th>\n",
       "      <th></th>\n",
       "      <th></th>\n",
       "      <th></th>\n",
       "      <th></th>\n",
       "      <th></th>\n",
       "      <th></th>\n",
       "    </tr>\n",
       "  </thead>\n",
       "  <tbody>\n",
       "    <tr>\n",
       "      <th>12346</th>\n",
       "      <td>0</td>\n",
       "      <td>1</td>\n",
       "      <td>74215</td>\n",
       "      <td>77183.60</td>\n",
       "      <td>77183.600000</td>\n",
       "      <td>3087.3440</td>\n",
       "    </tr>\n",
       "    <tr>\n",
       "      <th>12747</th>\n",
       "      <td>347</td>\n",
       "      <td>96</td>\n",
       "      <td>1153</td>\n",
       "      <td>3757.51</td>\n",
       "      <td>39.140729</td>\n",
       "      <td>150.3004</td>\n",
       "    </tr>\n",
       "    <tr>\n",
       "      <th>12748</th>\n",
       "      <td>363</td>\n",
       "      <td>4105</td>\n",
       "      <td>24393</td>\n",
       "      <td>30652.63</td>\n",
       "      <td>7.467145</td>\n",
       "      <td>1226.1052</td>\n",
       "    </tr>\n",
       "    <tr>\n",
       "      <th>12749</th>\n",
       "      <td>190</td>\n",
       "      <td>159</td>\n",
       "      <td>1243</td>\n",
       "      <td>3277.82</td>\n",
       "      <td>20.615220</td>\n",
       "      <td>131.1128</td>\n",
       "    </tr>\n",
       "    <tr>\n",
       "      <th>12820</th>\n",
       "      <td>282</td>\n",
       "      <td>47</td>\n",
       "      <td>607</td>\n",
       "      <td>731.99</td>\n",
       "      <td>15.574255</td>\n",
       "      <td>29.2796</td>\n",
       "    </tr>\n",
       "  </tbody>\n",
       "</table>\n",
       "</div>"
      ],
      "text/plain": [
       "            num_days_involved  num_transactions  num_units  money_spent  \\\n",
       "CustomerID                                                                \n",
       "12346                       0                 1      74215     77183.60   \n",
       "12747                     347                96       1153      3757.51   \n",
       "12748                     363              4105      24393     30652.63   \n",
       "12749                     190               159       1243      3277.82   \n",
       "12820                     282                47        607       731.99   \n",
       "\n",
       "                     AOV  profit_margin  \n",
       "CustomerID                               \n",
       "12346       77183.600000      3087.3440  \n",
       "12747          39.140729       150.3004  \n",
       "12748           7.467145      1226.1052  \n",
       "12749          20.615220       131.1128  \n",
       "12820          15.574255        29.2796  "
      ]
     },
     "execution_count": 17,
     "metadata": {},
     "output_type": "execute_result"
    }
   ],
   "source": [
    "# Profit Margin Calculation\n",
    "approx_profit = 0.04 # Considering 4% profit on total sales\n",
    "trans_group['profit_margin'] = approx_profit*trans_group['money_spent']\n",
    "trans_group.head()"
   ]
  },
  {
   "cell_type": "code",
   "execution_count": 18,
   "metadata": {
    "collapsed": true
   },
   "outputs": [],
   "source": [
    "# Customer Value calculation\n",
    "trans_group['CV'] = (trans_group['AOV']*purchase_frequency)/churn_rate"
   ]
  },
  {
   "cell_type": "code",
   "execution_count": 19,
   "metadata": {
    "collapsed": true
   },
   "outputs": [],
   "source": [
    "# Customer lifetime Value calculation\n",
    "trans_group['CLTV'] = trans_group['CV']*trans_group['profit_margin']"
   ]
  },
  {
   "cell_type": "code",
   "execution_count": 20,
   "metadata": {
    "scrolled": true
   },
   "outputs": [
    {
     "data": {
      "text/html": [
       "<div>\n",
       "<style scoped>\n",
       "    .dataframe tbody tr th:only-of-type {\n",
       "        vertical-align: middle;\n",
       "    }\n",
       "\n",
       "    .dataframe tbody tr th {\n",
       "        vertical-align: top;\n",
       "    }\n",
       "\n",
       "    .dataframe thead th {\n",
       "        text-align: right;\n",
       "    }\n",
       "</style>\n",
       "<table border=\"1\" class=\"dataframe\">\n",
       "  <thead>\n",
       "    <tr style=\"text-align: right;\">\n",
       "      <th></th>\n",
       "      <th>num_days_involved</th>\n",
       "      <th>num_transactions</th>\n",
       "      <th>num_units</th>\n",
       "      <th>money_spent</th>\n",
       "      <th>AOV</th>\n",
       "      <th>profit_margin</th>\n",
       "      <th>CV</th>\n",
       "      <th>CLTV</th>\n",
       "    </tr>\n",
       "    <tr>\n",
       "      <th>CustomerID</th>\n",
       "      <th></th>\n",
       "      <th></th>\n",
       "      <th></th>\n",
       "      <th></th>\n",
       "      <th></th>\n",
       "      <th></th>\n",
       "      <th></th>\n",
       "      <th></th>\n",
       "    </tr>\n",
       "  </thead>\n",
       "  <tbody>\n",
       "    <tr>\n",
       "      <th>12346</th>\n",
       "      <td>0</td>\n",
       "      <td>1</td>\n",
       "      <td>74215</td>\n",
       "      <td>77183.60</td>\n",
       "      <td>77183.600000</td>\n",
       "      <td>3087.3440</td>\n",
       "      <td>3.840253e+08</td>\n",
       "      <td>1.185618e+12</td>\n",
       "    </tr>\n",
       "    <tr>\n",
       "      <th>12747</th>\n",
       "      <td>347</td>\n",
       "      <td>96</td>\n",
       "      <td>1153</td>\n",
       "      <td>3757.51</td>\n",
       "      <td>39.140729</td>\n",
       "      <td>150.3004</td>\n",
       "      <td>1.947438e+05</td>\n",
       "      <td>2.927007e+07</td>\n",
       "    </tr>\n",
       "    <tr>\n",
       "      <th>12748</th>\n",
       "      <td>363</td>\n",
       "      <td>4105</td>\n",
       "      <td>24393</td>\n",
       "      <td>30652.63</td>\n",
       "      <td>7.467145</td>\n",
       "      <td>1226.1052</td>\n",
       "      <td>3.715261e+04</td>\n",
       "      <td>4.555301e+07</td>\n",
       "    </tr>\n",
       "    <tr>\n",
       "      <th>12749</th>\n",
       "      <td>190</td>\n",
       "      <td>159</td>\n",
       "      <td>1243</td>\n",
       "      <td>3277.82</td>\n",
       "      <td>20.615220</td>\n",
       "      <td>131.1128</td>\n",
       "      <td>1.025706e+05</td>\n",
       "      <td>1.344831e+07</td>\n",
       "    </tr>\n",
       "    <tr>\n",
       "      <th>12820</th>\n",
       "      <td>282</td>\n",
       "      <td>47</td>\n",
       "      <td>607</td>\n",
       "      <td>731.99</td>\n",
       "      <td>15.574255</td>\n",
       "      <td>29.2796</td>\n",
       "      <td>7.748936e+04</td>\n",
       "      <td>2.268857e+06</td>\n",
       "    </tr>\n",
       "  </tbody>\n",
       "</table>\n",
       "</div>"
      ],
      "text/plain": [
       "            num_days_involved  num_transactions  num_units  money_spent  \\\n",
       "CustomerID                                                                \n",
       "12346                       0                 1      74215     77183.60   \n",
       "12747                     347                96       1153      3757.51   \n",
       "12748                     363              4105      24393     30652.63   \n",
       "12749                     190               159       1243      3277.82   \n",
       "12820                     282                47        607       731.99   \n",
       "\n",
       "                     AOV  profit_margin            CV          CLTV  \n",
       "CustomerID                                                           \n",
       "12346       77183.600000      3087.3440  3.840253e+08  1.185618e+12  \n",
       "12747          39.140729       150.3004  1.947438e+05  2.927007e+07  \n",
       "12748           7.467145      1226.1052  3.715261e+04  4.555301e+07  \n",
       "12749          20.615220       131.1128  1.025706e+05  1.344831e+07  \n",
       "12820          15.574255        29.2796  7.748936e+04  2.268857e+06  "
      ]
     },
     "execution_count": 20,
     "metadata": {},
     "output_type": "execute_result"
    }
   ],
   "source": [
    "trans_group.head()"
   ]
  },
  {
   "cell_type": "code",
   "execution_count": 21,
   "metadata": {
    "scrolled": true
   },
   "outputs": [
    {
     "data": {
      "text/html": [
       "<div>\n",
       "<style scoped>\n",
       "    .dataframe tbody tr th:only-of-type {\n",
       "        vertical-align: middle;\n",
       "    }\n",
       "\n",
       "    .dataframe tbody tr th {\n",
       "        vertical-align: top;\n",
       "    }\n",
       "\n",
       "    .dataframe thead th {\n",
       "        text-align: right;\n",
       "    }\n",
       "</style>\n",
       "<table border=\"1\" class=\"dataframe\">\n",
       "  <thead>\n",
       "    <tr style=\"text-align: right;\">\n",
       "      <th></th>\n",
       "      <th>num_days_involved</th>\n",
       "      <th>num_transactions</th>\n",
       "      <th>num_units</th>\n",
       "      <th>money_spent</th>\n",
       "      <th>AOV</th>\n",
       "      <th>profit_margin</th>\n",
       "      <th>CV</th>\n",
       "      <th>CLTV</th>\n",
       "    </tr>\n",
       "  </thead>\n",
       "  <tbody>\n",
       "    <tr>\n",
       "      <th>count</th>\n",
       "      <td>3882.000000</td>\n",
       "      <td>3882.000000</td>\n",
       "      <td>3882.000000</td>\n",
       "      <td>3882.000000</td>\n",
       "      <td>3882.000000</td>\n",
       "      <td>3882.000000</td>\n",
       "      <td>3.882000e+03</td>\n",
       "      <td>3.882000e+03</td>\n",
       "    </tr>\n",
       "    <tr>\n",
       "      <th>mean</th>\n",
       "      <td>125.302937</td>\n",
       "      <td>85.872488</td>\n",
       "      <td>1023.920402</td>\n",
       "      <td>1744.712522</td>\n",
       "      <td>56.073636</td>\n",
       "      <td>69.788501</td>\n",
       "      <td>2.789931e+05</td>\n",
       "      <td>3.791271e+08</td>\n",
       "    </tr>\n",
       "    <tr>\n",
       "      <th>std</th>\n",
       "      <td>129.068597</td>\n",
       "      <td>202.154915</td>\n",
       "      <td>3385.208548</td>\n",
       "      <td>6705.800145</td>\n",
       "      <td>1262.067677</td>\n",
       "      <td>268.232006</td>\n",
       "      <td>6.279389e+06</td>\n",
       "      <td>1.912455e+10</td>\n",
       "    </tr>\n",
       "    <tr>\n",
       "      <th>min</th>\n",
       "      <td>0.000000</td>\n",
       "      <td>1.000000</td>\n",
       "      <td>1.000000</td>\n",
       "      <td>2.900000</td>\n",
       "      <td>1.450000</td>\n",
       "      <td>0.116000</td>\n",
       "      <td>7.214443e+03</td>\n",
       "      <td>8.368753e+02</td>\n",
       "    </tr>\n",
       "    <tr>\n",
       "      <th>25%</th>\n",
       "      <td>0.000000</td>\n",
       "      <td>16.000000</td>\n",
       "      <td>150.000000</td>\n",
       "      <td>291.127500</td>\n",
       "      <td>11.312617</td>\n",
       "      <td>11.645100</td>\n",
       "      <td>5.628568e+04</td>\n",
       "      <td>7.798324e+05</td>\n",
       "    </tr>\n",
       "    <tr>\n",
       "      <th>50%</th>\n",
       "      <td>83.000000</td>\n",
       "      <td>39.000000</td>\n",
       "      <td>354.000000</td>\n",
       "      <td>626.905000</td>\n",
       "      <td>17.266776</td>\n",
       "      <td>25.076200</td>\n",
       "      <td>8.591046e+04</td>\n",
       "      <td>2.098276e+06</td>\n",
       "    </tr>\n",
       "    <tr>\n",
       "      <th>75%</th>\n",
       "      <td>245.000000</td>\n",
       "      <td>96.000000</td>\n",
       "      <td>902.750000</td>\n",
       "      <td>1510.380000</td>\n",
       "      <td>24.326304</td>\n",
       "      <td>60.415200</td>\n",
       "      <td>1.210350e+05</td>\n",
       "      <td>6.367277e+06</td>\n",
       "    </tr>\n",
       "    <tr>\n",
       "      <th>max</th>\n",
       "      <td>364.000000</td>\n",
       "      <td>7204.000000</td>\n",
       "      <td>74215.000000</td>\n",
       "      <td>248171.760000</td>\n",
       "      <td>77183.600000</td>\n",
       "      <td>9926.870400</td>\n",
       "      <td>3.840253e+08</td>\n",
       "      <td>1.185618e+12</td>\n",
       "    </tr>\n",
       "  </tbody>\n",
       "</table>\n",
       "</div>"
      ],
      "text/plain": [
       "       num_days_involved  num_transactions     num_units    money_spent  \\\n",
       "count        3882.000000       3882.000000   3882.000000    3882.000000   \n",
       "mean          125.302937         85.872488   1023.920402    1744.712522   \n",
       "std           129.068597        202.154915   3385.208548    6705.800145   \n",
       "min             0.000000          1.000000      1.000000       2.900000   \n",
       "25%             0.000000         16.000000    150.000000     291.127500   \n",
       "50%            83.000000         39.000000    354.000000     626.905000   \n",
       "75%           245.000000         96.000000    902.750000    1510.380000   \n",
       "max           364.000000       7204.000000  74215.000000  248171.760000   \n",
       "\n",
       "                AOV  profit_margin            CV          CLTV  \n",
       "count   3882.000000    3882.000000  3.882000e+03  3.882000e+03  \n",
       "mean      56.073636      69.788501  2.789931e+05  3.791271e+08  \n",
       "std     1262.067677     268.232006  6.279389e+06  1.912455e+10  \n",
       "min        1.450000       0.116000  7.214443e+03  8.368753e+02  \n",
       "25%       11.312617      11.645100  5.628568e+04  7.798324e+05  \n",
       "50%       17.266776      25.076200  8.591046e+04  2.098276e+06  \n",
       "75%       24.326304      60.415200  1.210350e+05  6.367277e+06  \n",
       "max    77183.600000    9926.870400  3.840253e+08  1.185618e+12  "
      ]
     },
     "execution_count": 21,
     "metadata": {},
     "output_type": "execute_result"
    }
   ],
   "source": [
    "trans_group.describe()"
   ]
  },
  {
   "cell_type": "code",
   "execution_count": 22,
   "metadata": {
    "collapsed": true
   },
   "outputs": [],
   "source": [
    "# As the CLTV(monetary value) is high, reduce the magnitude by converting the value to CLTV(in lakhs) by dividing the entire column by e+5.\n",
    "trans_group['CLTV'] = trans_group['CLTV']/1e+5"
   ]
  },
  {
   "cell_type": "code",
   "execution_count": 23,
   "metadata": {},
   "outputs": [
    {
     "data": {
      "text/html": [
       "<div>\n",
       "<style scoped>\n",
       "    .dataframe tbody tr th:only-of-type {\n",
       "        vertical-align: middle;\n",
       "    }\n",
       "\n",
       "    .dataframe tbody tr th {\n",
       "        vertical-align: top;\n",
       "    }\n",
       "\n",
       "    .dataframe thead th {\n",
       "        text-align: right;\n",
       "    }\n",
       "</style>\n",
       "<table border=\"1\" class=\"dataframe\">\n",
       "  <thead>\n",
       "    <tr style=\"text-align: right;\">\n",
       "      <th></th>\n",
       "      <th>num_days_involved</th>\n",
       "      <th>num_transactions</th>\n",
       "      <th>num_units</th>\n",
       "      <th>money_spent</th>\n",
       "      <th>AOV</th>\n",
       "      <th>profit_margin</th>\n",
       "      <th>CV</th>\n",
       "      <th>CLTV</th>\n",
       "    </tr>\n",
       "  </thead>\n",
       "  <tbody>\n",
       "    <tr>\n",
       "      <th>count</th>\n",
       "      <td>3882.000000</td>\n",
       "      <td>3882.000000</td>\n",
       "      <td>3882.000000</td>\n",
       "      <td>3882.000000</td>\n",
       "      <td>3882.000000</td>\n",
       "      <td>3882.000000</td>\n",
       "      <td>3.882000e+03</td>\n",
       "      <td>3.882000e+03</td>\n",
       "    </tr>\n",
       "    <tr>\n",
       "      <th>mean</th>\n",
       "      <td>125.302937</td>\n",
       "      <td>85.872488</td>\n",
       "      <td>1023.920402</td>\n",
       "      <td>1744.712522</td>\n",
       "      <td>56.073636</td>\n",
       "      <td>69.788501</td>\n",
       "      <td>2.789931e+05</td>\n",
       "      <td>3.791271e+03</td>\n",
       "    </tr>\n",
       "    <tr>\n",
       "      <th>std</th>\n",
       "      <td>129.068597</td>\n",
       "      <td>202.154915</td>\n",
       "      <td>3385.208548</td>\n",
       "      <td>6705.800145</td>\n",
       "      <td>1262.067677</td>\n",
       "      <td>268.232006</td>\n",
       "      <td>6.279389e+06</td>\n",
       "      <td>1.912455e+05</td>\n",
       "    </tr>\n",
       "    <tr>\n",
       "      <th>min</th>\n",
       "      <td>0.000000</td>\n",
       "      <td>1.000000</td>\n",
       "      <td>1.000000</td>\n",
       "      <td>2.900000</td>\n",
       "      <td>1.450000</td>\n",
       "      <td>0.116000</td>\n",
       "      <td>7.214443e+03</td>\n",
       "      <td>8.368753e-03</td>\n",
       "    </tr>\n",
       "    <tr>\n",
       "      <th>25%</th>\n",
       "      <td>0.000000</td>\n",
       "      <td>16.000000</td>\n",
       "      <td>150.000000</td>\n",
       "      <td>291.127500</td>\n",
       "      <td>11.312617</td>\n",
       "      <td>11.645100</td>\n",
       "      <td>5.628568e+04</td>\n",
       "      <td>7.798324e+00</td>\n",
       "    </tr>\n",
       "    <tr>\n",
       "      <th>50%</th>\n",
       "      <td>83.000000</td>\n",
       "      <td>39.000000</td>\n",
       "      <td>354.000000</td>\n",
       "      <td>626.905000</td>\n",
       "      <td>17.266776</td>\n",
       "      <td>25.076200</td>\n",
       "      <td>8.591046e+04</td>\n",
       "      <td>2.098276e+01</td>\n",
       "    </tr>\n",
       "    <tr>\n",
       "      <th>75%</th>\n",
       "      <td>245.000000</td>\n",
       "      <td>96.000000</td>\n",
       "      <td>902.750000</td>\n",
       "      <td>1510.380000</td>\n",
       "      <td>24.326304</td>\n",
       "      <td>60.415200</td>\n",
       "      <td>1.210350e+05</td>\n",
       "      <td>6.367277e+01</td>\n",
       "    </tr>\n",
       "    <tr>\n",
       "      <th>max</th>\n",
       "      <td>364.000000</td>\n",
       "      <td>7204.000000</td>\n",
       "      <td>74215.000000</td>\n",
       "      <td>248171.760000</td>\n",
       "      <td>77183.600000</td>\n",
       "      <td>9926.870400</td>\n",
       "      <td>3.840253e+08</td>\n",
       "      <td>1.185618e+07</td>\n",
       "    </tr>\n",
       "  </tbody>\n",
       "</table>\n",
       "</div>"
      ],
      "text/plain": [
       "       num_days_involved  num_transactions     num_units    money_spent  \\\n",
       "count        3882.000000       3882.000000   3882.000000    3882.000000   \n",
       "mean          125.302937         85.872488   1023.920402    1744.712522   \n",
       "std           129.068597        202.154915   3385.208548    6705.800145   \n",
       "min             0.000000          1.000000      1.000000       2.900000   \n",
       "25%             0.000000         16.000000    150.000000     291.127500   \n",
       "50%            83.000000         39.000000    354.000000     626.905000   \n",
       "75%           245.000000         96.000000    902.750000    1510.380000   \n",
       "max           364.000000       7204.000000  74215.000000  248171.760000   \n",
       "\n",
       "                AOV  profit_margin            CV          CLTV  \n",
       "count   3882.000000    3882.000000  3.882000e+03  3.882000e+03  \n",
       "mean      56.073636      69.788501  2.789931e+05  3.791271e+03  \n",
       "std     1262.067677     268.232006  6.279389e+06  1.912455e+05  \n",
       "min        1.450000       0.116000  7.214443e+03  8.368753e-03  \n",
       "25%       11.312617      11.645100  5.628568e+04  7.798324e+00  \n",
       "50%       17.266776      25.076200  8.591046e+04  2.098276e+01  \n",
       "75%       24.326304      60.415200  1.210350e+05  6.367277e+01  \n",
       "max    77183.600000    9926.870400  3.840253e+08  1.185618e+07  "
      ]
     },
     "execution_count": 23,
     "metadata": {},
     "output_type": "execute_result"
    }
   ],
   "source": [
    "trans_group.describe()"
   ]
  },
  {
   "cell_type": "markdown",
   "metadata": {},
   "source": [
    "#### Outlier removal"
   ]
  },
  {
   "cell_type": "code",
   "execution_count": 24,
   "metadata": {
    "collapsed": true,
    "scrolled": true
   },
   "outputs": [],
   "source": [
    "# For each column, first it computes the Z-score of each value in the column, relative to the column mean and standard deviation. \n",
    "#  Then is takes the absolute of Z-score because the direction does not matter, only if it is below the threshold. \n",
    "#  .all(axis=1) ensures that for each row, all column satisfy the constraint. Finally, result of this condition is used to index the dataframe. \n",
    "# The constraint is that for each column, its value should lie within 2 standard deviations of the mean\n",
    "trans_group_no_outlier = trans_group[(np.abs(stats.zscore(trans_group)) < 2).all(axis=1)]"
   ]
  },
  {
   "cell_type": "code",
   "execution_count": 25,
   "metadata": {
    "scrolled": true
   },
   "outputs": [
    {
     "data": {
      "text/html": [
       "<div>\n",
       "<style scoped>\n",
       "    .dataframe tbody tr th:only-of-type {\n",
       "        vertical-align: middle;\n",
       "    }\n",
       "\n",
       "    .dataframe tbody tr th {\n",
       "        vertical-align: top;\n",
       "    }\n",
       "\n",
       "    .dataframe thead th {\n",
       "        text-align: right;\n",
       "    }\n",
       "</style>\n",
       "<table border=\"1\" class=\"dataframe\">\n",
       "  <thead>\n",
       "    <tr style=\"text-align: right;\">\n",
       "      <th></th>\n",
       "      <th>num_days_involved</th>\n",
       "      <th>num_transactions</th>\n",
       "      <th>num_units</th>\n",
       "      <th>money_spent</th>\n",
       "      <th>AOV</th>\n",
       "      <th>profit_margin</th>\n",
       "      <th>CV</th>\n",
       "      <th>CLTV</th>\n",
       "    </tr>\n",
       "  </thead>\n",
       "  <tbody>\n",
       "    <tr>\n",
       "      <th>count</th>\n",
       "      <td>3773.000000</td>\n",
       "      <td>3773.000000</td>\n",
       "      <td>3773.000000</td>\n",
       "      <td>3773.000000</td>\n",
       "      <td>3773.000000</td>\n",
       "      <td>3773.000000</td>\n",
       "      <td>3.773000e+03</td>\n",
       "      <td>3773.000000</td>\n",
       "    </tr>\n",
       "    <tr>\n",
       "      <th>mean</th>\n",
       "      <td>120.310893</td>\n",
       "      <td>68.673999</td>\n",
       "      <td>688.483965</td>\n",
       "      <td>1169.681460</td>\n",
       "      <td>28.269943</td>\n",
       "      <td>46.787258</td>\n",
       "      <td>1.406565e+05</td>\n",
       "      <td>89.432904</td>\n",
       "    </tr>\n",
       "    <tr>\n",
       "      <th>std</th>\n",
       "      <td>126.467142</td>\n",
       "      <td>82.216783</td>\n",
       "      <td>934.411649</td>\n",
       "      <td>1611.722333</td>\n",
       "      <td>59.155920</td>\n",
       "      <td>64.468893</td>\n",
       "      <td>2.943290e+05</td>\n",
       "      <td>466.809782</td>\n",
       "    </tr>\n",
       "    <tr>\n",
       "      <th>min</th>\n",
       "      <td>0.000000</td>\n",
       "      <td>1.000000</td>\n",
       "      <td>1.000000</td>\n",
       "      <td>2.900000</td>\n",
       "      <td>1.450000</td>\n",
       "      <td>0.116000</td>\n",
       "      <td>7.214443e+03</td>\n",
       "      <td>0.008369</td>\n",
       "    </tr>\n",
       "    <tr>\n",
       "      <th>25%</th>\n",
       "      <td>0.000000</td>\n",
       "      <td>16.000000</td>\n",
       "      <td>147.000000</td>\n",
       "      <td>285.740000</td>\n",
       "      <td>11.590690</td>\n",
       "      <td>11.429600</td>\n",
       "      <td>5.766922e+04</td>\n",
       "      <td>7.536436</td>\n",
       "    </tr>\n",
       "    <tr>\n",
       "      <th>50%</th>\n",
       "      <td>74.000000</td>\n",
       "      <td>38.000000</td>\n",
       "      <td>338.000000</td>\n",
       "      <td>604.640000</td>\n",
       "      <td>17.247731</td>\n",
       "      <td>24.185600</td>\n",
       "      <td>8.581570e+04</td>\n",
       "      <td>19.807416</td>\n",
       "    </tr>\n",
       "    <tr>\n",
       "      <th>75%</th>\n",
       "      <td>234.000000</td>\n",
       "      <td>89.000000</td>\n",
       "      <td>832.000000</td>\n",
       "      <td>1393.060000</td>\n",
       "      <td>23.941500</td>\n",
       "      <td>55.722400</td>\n",
       "      <td>1.191204e+05</td>\n",
       "      <td>59.131396</td>\n",
       "    </tr>\n",
       "    <tr>\n",
       "      <th>max</th>\n",
       "      <td>364.000000</td>\n",
       "      <td>480.000000</td>\n",
       "      <td>7347.000000</td>\n",
       "      <td>15030.730000</td>\n",
       "      <td>1687.200000</td>\n",
       "      <td>601.229200</td>\n",
       "      <td>8.394626e+06</td>\n",
       "      <td>22661.460312</td>\n",
       "    </tr>\n",
       "  </tbody>\n",
       "</table>\n",
       "</div>"
      ],
      "text/plain": [
       "       num_days_involved  num_transactions    num_units   money_spent  \\\n",
       "count        3773.000000       3773.000000  3773.000000   3773.000000   \n",
       "mean          120.310893         68.673999   688.483965   1169.681460   \n",
       "std           126.467142         82.216783   934.411649   1611.722333   \n",
       "min             0.000000          1.000000     1.000000      2.900000   \n",
       "25%             0.000000         16.000000   147.000000    285.740000   \n",
       "50%            74.000000         38.000000   338.000000    604.640000   \n",
       "75%           234.000000         89.000000   832.000000   1393.060000   \n",
       "max           364.000000        480.000000  7347.000000  15030.730000   \n",
       "\n",
       "               AOV  profit_margin            CV          CLTV  \n",
       "count  3773.000000    3773.000000  3.773000e+03   3773.000000  \n",
       "mean     28.269943      46.787258  1.406565e+05     89.432904  \n",
       "std      59.155920      64.468893  2.943290e+05    466.809782  \n",
       "min       1.450000       0.116000  7.214443e+03      0.008369  \n",
       "25%      11.590690      11.429600  5.766922e+04      7.536436  \n",
       "50%      17.247731      24.185600  8.581570e+04     19.807416  \n",
       "75%      23.941500      55.722400  1.191204e+05     59.131396  \n",
       "max    1687.200000     601.229200  8.394626e+06  22661.460312  "
      ]
     },
     "execution_count": 25,
     "metadata": {},
     "output_type": "execute_result"
    }
   ],
   "source": [
    "# Check stats after removing outliers\n",
    "trans_group_no_outlier.describe()"
   ]
  },
  {
   "cell_type": "markdown",
   "metadata": {},
   "source": [
    "#### Correlation"
   ]
  },
  {
   "cell_type": "code",
   "execution_count": 26,
   "metadata": {},
   "outputs": [
    {
     "data": {
      "image/png": "[encoded data removed]",
      "text/plain": [
       "<Figure size 720x576 with 2 Axes>"
      ]
     },
     "metadata": {
      "needs_background": "light"
     },
     "output_type": "display_data"
    }
   ],
   "source": [
    "fig, ax = plt.subplots(figsize=(10,8)) \n",
    "sns.heatmap(trans_group_no_outlier.corr(), cmap='viridis', linewidths=0.5, ax=ax, annot=True)\n",
    "plt.show()"
   ]
  },
  {
   "cell_type": "markdown",
   "metadata": {},
   "source": [
    "##### Correlated features: \n",
    "    - num_units and money_spent (0.899367) \n",
    "    - num_units and profit_margin (0.899367)\n",
    "    - AOV and CV (1)\n",
    "    - profit_margin and money_spent (1)\n",
    "    \n",
    "##### Correlation with target of these correlated features: \n",
    "    - num_units and CLTV (0.312630)\n",
    "    - money_spent and CLTV (0.399156)\n",
    "    - profit_margin and CLTV (0.399156)\n",
    "    - AOV and CLTV (0.696063)\n",
    "    - CV and CLTV (0.696063)\n",
    "    \n",
    "##### Choosing which features to remove\n",
    "    - num_units and money_spent, we remove num_units as it has lower correlation with target. \n",
    "    - num_units and profit_margin, num_units already removed \n",
    "    - AOV and CV, we remove CV as we can remove any of them as they both have equal correlation with target.\n",
    "    - profit_margin and money_spent, we remove profit_margin."
   ]
  },
  {
   "cell_type": "code",
   "execution_count": 27,
   "metadata": {
    "collapsed": true
   },
   "outputs": [],
   "source": [
    "# We remove num_units, CV, profit_margin as correlation is greater than 0.8 in H2o and sklearn data prep"
   ]
  },
  {
   "cell_type": "code",
   "execution_count": 28,
   "metadata": {
    "collapsed": true
   },
   "outputs": [],
   "source": [
    "import matplotlib.pyplot as plt\n",
    "import numpy as np\n",
    "import seaborn as sns\n",
    "import itertools\n",
    "\n",
    "from sklearn.preprocessing import label_binarize, StandardScaler\n",
    "from sklearn.ensemble import RandomForestRegressor, RandomForestClassifier, GradientBoostingClassifier, GradientBoostingRegressor, BaggingClassifier, BaggingRegressor\n",
    "from sklearn.linear_model import LinearRegression, LogisticRegression\n",
    "from sklearn.svm import SVR, SVC\n",
    "from sklearn.neighbors import NearestNeighbors,KNeighborsClassifier\n",
    "from sklearn.cluster import DBSCAN, KMeans\n",
    "from sklearn.metrics import silhouette_score, mean_squared_error, roc_auc_score, roc_curve, auc, accuracy_score, precision_score, recall_score\n",
    "from sklearn.metrics import make_scorer, classification_report, confusion_matrix, f1_score\n",
    "from sklearn.model_selection import cross_validate,train_test_split, cross_val_predict\n",
    "from sklearn.pipeline import Pipeline\n",
    "from sklearn.multiclass import OneVsRestClassifier\n",
    "from sklearn.neural_network import MLPClassifier\n",
    "import math\n",
    "\n",
    "from imblearn.over_sampling import SMOTE\n",
    "from imblearn.under_sampling import RandomUnderSampler\n",
    "from imblearn.pipeline import Pipeline as sm_pipe"
   ]
  },
  {
   "cell_type": "markdown",
   "metadata": {},
   "source": [
    "#### H20 Data prep"
   ]
  },
  {
   "cell_type": "code",
   "execution_count": 29,
   "metadata": {
    "scrolled": true
   },
   "outputs": [
    {
     "name": "stderr",
     "output_type": "stream",
     "text": [
      "/home/kartikey/anaconda3/lib/python3.7/site-packages/ipykernel_launcher.py:10: SettingWithCopyWarning: \n",
      "A value is trying to be set on a copy of a slice from a DataFrame.\n",
      "Try using .loc[row_indexer,col_indexer] = value instead\n",
      "\n",
      "See the caveats in the documentation: https://pandas.pydata.org/pandas-docs/stable/user_guide/indexing.html#returning-a-view-versus-a-copy\n",
      "  # Remove the CWD from sys.path while we load stuff.\n",
      "/home/kartikey/anaconda3/lib/python3.7/site-packages/ipykernel_launcher.py:11: SettingWithCopyWarning: \n",
      "A value is trying to be set on a copy of a slice from a DataFrame.\n",
      "Try using .loc[row_indexer,col_indexer] = value instead\n",
      "\n",
      "See the caveats in the documentation: https://pandas.pydata.org/pandas-docs/stable/user_guide/indexing.html#returning-a-view-versus-a-copy\n",
      "  # This is added back by InteractiveShellApp.init_path()\n"
     ]
    }
   ],
   "source": [
    "from sklearn.model_selection import train_test_split\n",
    "X = trans_group_no_outlier[['num_days_involved','num_transactions','money_spent','AOV']]\n",
    "y = trans_group_no_outlier[['CLTV']]\n",
    "X_train, X_test, y_train, y_test = train_test_split(X, y, test_size=0.10, random_state=42)\n",
    "\n",
    "X_train['CLTV'] = y_train\n",
    "X_test['CLTV']  = y_test\n",
    "\n",
    "X_test.to_csv(OutputdataFolder + \"/CustomerIDTest.csv\", index=True)\n",
    "\n",
    "X_train.to_csv(OutputdataFolder + \"/H2oTrainFile.csv\", index=False)\n",
    "X_test.to_csv(OutputdataFolder + \"/H2oTestFile.csv\", index=False)"
   ]
  },
  {
   "cell_type": "markdown",
   "metadata": {},
   "source": [
    "#### SKlearn data prep (Regression)"
   ]
  },
  {
   "cell_type": "markdown",
   "metadata": {},
   "source": [
    "#### Functions for ML - "
   ]
  },
  {
   "cell_type": "code",
   "execution_count": 30,
   "metadata": {
    "collapsed": true
   },
   "outputs": [],
   "source": [
    "# Prepare Data for training and testing\n",
    "X = trans_group_no_outlier[['num_days_involved','num_transactions','money_spent','AOV']]\n",
    "y = trans_group_no_outlier['CLTV']\n",
    "X_train, X_test, y_train, y_test = train_test_split(X, y, test_size=0.1, random_state=42)\n",
    "\n",
    "Model_accuracy = {}"
   ]
  },
  {
   "cell_type": "code",
   "execution_count": 31,
   "metadata": {
    "collapsed": true
   },
   "outputs": [],
   "source": [
    "def regression_model(X_tr, y_tr, X_te, y_te, model, metrics):\n",
    "    pipeline = Pipeline([('scaler', StandardScaler()), ('estimator', model)])\n",
    "    scores   = cross_validate(pipeline, X_tr, y_tr, cv=10, scoring=metrics, return_estimator=True, n_jobs=-1)\n",
    "    \n",
    "    max_index      = scores['test_r2'].argmax()\n",
    "    best_estimator = scores['estimator'][max_index]\n",
    "    \n",
    "    y_pred = best_estimator.predict(X_te)\n",
    "    rmse   = math.sqrt(mean_squared_error(y_te, y_pred))\n",
    "    r2     = best_estimator.score(X_te, y_te)\n",
    "    \n",
    "    return rmse, r2, y_pred"
   ]
  },
  {
   "cell_type": "markdown",
   "metadata": {},
   "source": [
    "## Regression"
   ]
  },
  {
   "cell_type": "markdown",
   "metadata": {},
   "source": [
    "#### Linear regression"
   ]
  },
  {
   "cell_type": "code",
   "execution_count": 32,
   "metadata": {},
   "outputs": [
    {
     "name": "stdout",
     "output_type": "stream",
     "text": [
      "R squared score for linear regression model is 0.7010802744400352\n",
      "RMSE score for linear regression model is 156.90130512612447\n"
     ]
    }
   ],
   "source": [
    "# Predict CLTV using linear regression model\n",
    "linreg        = LinearRegression()\n",
    "linreg_output = regression_model(X_train, y_train, X_test, y_test, linreg, ('neg_root_mean_squared_error','r2'))\n",
    "\n",
    "# Check the metrics of linear regression\n",
    "print('R squared score for linear regression model is', linreg_output[1])\n",
    "print('RMSE score for linear regression model is', linreg_output[0])"
   ]
  },
  {
   "cell_type": "markdown",
   "metadata": {},
   "source": [
    "#### RandomForest"
   ]
  },
  {
   "cell_type": "code",
   "execution_count": 33,
   "metadata": {},
   "outputs": [
    {
     "name": "stdout",
     "output_type": "stream",
     "text": [
      "R squared score for Random Forest model is 0.8922936434716268\n",
      "RMSE score for Random Forest model is 94.18243968631927\n"
     ]
    }
   ],
   "source": [
    "# Predict CLTV using Random Forest Regressor model\n",
    "rf        = RandomForestRegressor(n_estimators= 1000, random_state=42)\n",
    "rf_output = regression_model(X_train, y_train, X_test, y_test, rf, ('neg_root_mean_squared_error','r2'))\n",
    "\n",
    "# Check the metrics\n",
    "print('R squared score for Random Forest model is', rf_output[1])\n",
    "print('RMSE score for Random Forest model is', rf_output[0])"
   ]
  },
  {
   "cell_type": "markdown",
   "metadata": {},
   "source": [
    "#### SVR"
   ]
  },
  {
   "cell_type": "code",
   "execution_count": 34,
   "metadata": {},
   "outputs": [
    {
     "name": "stdout",
     "output_type": "stream",
     "text": [
      "R squared score for SVR model with rbf kernel is 0.590793348209204\n",
      "RMSE score for SVR model with rbf kernel is 183.57799025252442\n"
     ]
    }
   ],
   "source": [
    "# Predict CLTV using Support Vector Regressor model with RBF Kernal\n",
    "svr_rbf         = SVR(kernel='rbf', C=100, gamma=0.1, epsilon=.1)\n",
    "svr_rbf_output  = regression_model(X_train, y_train, X_test, y_test, svr_rbf, ('neg_root_mean_squared_error','r2'))\n",
    "\n",
    "# Check the metrics\n",
    "print('R squared score for SVR model with rbf kernel is', svr_rbf_output[1])\n",
    "print('RMSE score for SVR model with rbf kernel is', svr_rbf_output[0])"
   ]
  },
  {
   "cell_type": "code",
   "execution_count": 35,
   "metadata": {},
   "outputs": [
    {
     "name": "stdout",
     "output_type": "stream",
     "text": [
      "R squared score for Linear SVR model is 0.5673545718836263\n",
      "RMSE score for Linear SVR model is 188.7623294048511\n"
     ]
    }
   ],
   "source": [
    "# Predict CLTV using linear Support Vector Regressor model\n",
    "svr_lin         = SVR(kernel='linear', C=100, gamma='auto')\n",
    "svr_lin_output  = regression_model(X_train, y_train, X_test, y_test, svr_lin, ('neg_root_mean_squared_error','r2'))\n",
    "\n",
    "# Check the metrics\n",
    "print('R squared score for Linear SVR model is', svr_lin_output[1])\n",
    "print('RMSE score for Linear SVR model is', svr_lin_output[0])"
   ]
  },
  {
   "cell_type": "code",
   "execution_count": 36,
   "metadata": {},
   "outputs": [
    {
     "name": "stdout",
     "output_type": "stream",
     "text": [
      "R squared score for SVR model with polynomial kernel is 0.9999999567434873\n",
      "RMSE score for SVR model with polynomial kernel is 0.059686349920905116\n"
     ]
    }
   ],
   "source": [
    "# Predict CLTV using Support Vector Regressor model with polynomial Kernal\n",
    "svr_poly         = SVR(kernel='poly', C=100, gamma='auto', degree=3, epsilon=.1, coef0=1)\n",
    "svr_poly_output  = regression_model(X_train, y_train, X_test, y_test, svr_poly, ('neg_root_mean_squared_error','r2'))\n",
    "\n",
    "# Check the metrics\n",
    "print('R squared score for SVR model with polynomial kernel is', svr_poly_output[1])\n",
    "print('RMSE score for SVR model with polynomial kernel is', svr_poly_output[0])"
   ]
  },
  {
   "cell_type": "markdown",
   "metadata": {},
   "source": [
    "#### Bagging"
   ]
  },
  {
   "cell_type": "code",
   "execution_count": 37,
   "metadata": {},
   "outputs": [
    {
     "name": "stdout",
     "output_type": "stream",
     "text": [
      "R squared score for Bagging model is 0.8918585172399555\n",
      "RMSE score for Bagging model is 94.3724932004871\n"
     ]
    }
   ],
   "source": [
    "# Predict CLTV using Bagging Regressor\n",
    "bag        = BaggingRegressor(n_estimators= 1000, random_state=42)\n",
    "bag_output = regression_model(X_train, y_train, X_test, y_test, bag, ('neg_root_mean_squared_error','r2'))\n",
    "\n",
    "# Check the metrics\n",
    "print('R squared score for Bagging model is', bag_output[1])\n",
    "print('RMSE score for Bagging model is', bag_output[0])"
   ]
  },
  {
   "cell_type": "markdown",
   "metadata": {},
   "source": [
    "#### Gradient boosting"
   ]
  },
  {
   "cell_type": "code",
   "execution_count": 38,
   "metadata": {},
   "outputs": [
    {
     "name": "stdout",
     "output_type": "stream",
     "text": [
      "R squared score for Gradient boosting model is 0.8921946008729745\n",
      "RMSE score for Gradient boosting model is 94.22573299985267\n"
     ]
    }
   ],
   "source": [
    "# Predict CLTV using Gradient Boosting technique\n",
    "gb        = GradientBoostingRegressor(n_estimators= 1000, random_state=42)\n",
    "gb_output = regression_model(X_train, y_train, X_test, y_test, gb, ('neg_root_mean_squared_error','r2'))\n",
    "\n",
    "print('R squared score for Gradient boosting model is', gb_output[1])\n",
    "print('RMSE score for Gradient boosting model is', gb_output[0])"
   ]
  },
  {
   "cell_type": "code",
   "execution_count": 39,
   "metadata": {
    "collapsed": true
   },
   "outputs": [],
   "source": [
    "# Write the model predictions to a dataframe\n",
    "Model_Predictions = {}\n",
    "Model_Predictions['CustomerID']         = y_test.index\n",
    "Model_Predictions['Actual CLTV(Lakhs)'] = y_test\n",
    "\n",
    "Model_Predictions['LR_Prediction'] = linreg_output[2]\n",
    "Model_Predictions['RF_Prediction'] = rf_output[2]\n",
    "Model_Predictions['SVR_Linear_Prediction'] = svr_lin_output[2]\n",
    "Model_Predictions['SVR_RBF_Prediction']    = svr_rbf_output[2]\n",
    "Model_Predictions['SVR_Poly_Prediction']   = svr_poly_output[2]\n",
    "Model_Predictions['BAG_Prediction']        = bag_output[2]\n",
    "Model_Predictions['GRAD_BOOST_Prediction'] = gb_output[2]\n",
    "\n",
    "Model_Predictions = pd.DataFrame(Model_Predictions)\n",
    "\n",
    "# Save the final results to a csv file\n",
    "Model_Predictions.to_csv(OutputdataFolder + \"/CLTV_Predictions_Regression.csv\", index=False)"
   ]
  },
  {
   "cell_type": "code",
   "execution_count": 40,
   "metadata": {
    "collapsed": true
   },
   "outputs": [],
   "source": [
    "# Write Metrics to Dataframe\n",
    "Metrics = {}\n",
    "Metrics['Linear_Regression']   =  [linreg_output[1], linreg_output[0]]\n",
    "Metrics['RF_Regression']       =  [rf_output[1], rf_output[0]]\n",
    "Metrics['SVR_Linear']          =  [svr_lin_output[1], svr_lin_output[0]]\n",
    "Metrics['SVR_RBF']             =  [svr_rbf_output[1], svr_rbf_output[0]]\n",
    "Metrics['SVR_Poly']            =  [svr_poly_output[1], svr_poly_output[0]]\n",
    "Metrics['Bagging']             =  [bag_output[1], bag_output[0]]\n",
    "Metrics['Gradient_Boosting']   =  [gb_output[1], gb_output[0]]\n",
    "\n",
    "df_Metrics = pd.DataFrame(Metrics).T\n",
    "df_Metrics.rename(columns={0:\"R_Square\", 1:\"RMSE\"}, inplace=True)\n",
    "df_Metrics.sort_values(by=['R_Square'], ascending=False, inplace=True)"
   ]
  },
  {
   "cell_type": "code",
   "execution_count": 41,
   "metadata": {},
   "outputs": [
    {
     "data": {
      "text/html": [
       "<div>\n",
       "<style scoped>\n",
       "    .dataframe tbody tr th:only-of-type {\n",
       "        vertical-align: middle;\n",
       "    }\n",
       "\n",
       "    .dataframe tbody tr th {\n",
       "        vertical-align: top;\n",
       "    }\n",
       "\n",
       "    .dataframe thead th {\n",
       "        text-align: right;\n",
       "    }\n",
       "</style>\n",
       "<table border=\"1\" class=\"dataframe\">\n",
       "  <thead>\n",
       "    <tr style=\"text-align: right;\">\n",
       "      <th></th>\n",
       "      <th>R_Square</th>\n",
       "      <th>RMSE</th>\n",
       "    </tr>\n",
       "  </thead>\n",
       "  <tbody>\n",
       "    <tr>\n",
       "      <th>SVR_Poly</th>\n",
       "      <td>1.000000</td>\n",
       "      <td>0.059686</td>\n",
       "    </tr>\n",
       "    <tr>\n",
       "      <th>RF_Regression</th>\n",
       "      <td>0.892294</td>\n",
       "      <td>94.182440</td>\n",
       "    </tr>\n",
       "    <tr>\n",
       "      <th>Gradient_Boosting</th>\n",
       "      <td>0.892195</td>\n",
       "      <td>94.225733</td>\n",
       "    </tr>\n",
       "    <tr>\n",
       "      <th>Bagging</th>\n",
       "      <td>0.891859</td>\n",
       "      <td>94.372493</td>\n",
       "    </tr>\n",
       "    <tr>\n",
       "      <th>Linear_Regression</th>\n",
       "      <td>0.701080</td>\n",
       "      <td>156.901305</td>\n",
       "    </tr>\n",
       "    <tr>\n",
       "      <th>SVR_RBF</th>\n",
       "      <td>0.590793</td>\n",
       "      <td>183.577990</td>\n",
       "    </tr>\n",
       "    <tr>\n",
       "      <th>SVR_Linear</th>\n",
       "      <td>0.567355</td>\n",
       "      <td>188.762329</td>\n",
       "    </tr>\n",
       "  </tbody>\n",
       "</table>\n",
       "</div>"
      ],
      "text/plain": [
       "                   R_Square        RMSE\n",
       "SVR_Poly           1.000000    0.059686\n",
       "RF_Regression      0.892294   94.182440\n",
       "Gradient_Boosting  0.892195   94.225733\n",
       "Bagging            0.891859   94.372493\n",
       "Linear_Regression  0.701080  156.901305\n",
       "SVR_RBF            0.590793  183.577990\n",
       "SVR_Linear         0.567355  188.762329"
      ]
     },
     "execution_count": 41,
     "metadata": {},
     "output_type": "execute_result"
    }
   ],
   "source": [
    "df_Metrics"
   ]
  },
  {
   "cell_type": "markdown",
   "metadata": {},
   "source": [
    "## Clustering"
   ]
  },
  {
   "cell_type": "markdown",
   "metadata": {},
   "source": [
    "#### Data prep (Clustering)"
   ]
  },
  {
   "cell_type": "markdown",
   "metadata": {},
   "source": [
    "####  Taking the mean is only appropriate for certain distance functions, such as the Euclidean distance. \n",
    "    - For other distance functions, you'd need to replace the cluster-center estimation function, too. \n",
    "    - Mahalanobis distance function is an alternate distance function. \n",
    "        - The Mahalanobis distance is the same as the Euclidean distance when the variables in the data are uncorrelated. \n",
    "        - When data are correlated, Euclidean distance is affected, but Mahalanobis distance is not."
   ]
  },
  {
   "cell_type": "markdown",
   "metadata": {},
   "source": [
    "#### Due to this limitation of having to replace cluster centre estimation function, with which we are not yet experienced, we go with vanilla KMeans, and so we have to drop the correlated features as we did in regression"
   ]
  },
  {
   "cell_type": "code",
   "execution_count": 42,
   "metadata": {
    "collapsed": true
   },
   "outputs": [],
   "source": [
    "# Consider only independent features\n",
    "X = trans_group_no_outlier[['num_days_involved','num_transactions','money_spent','AOV','CLTV']]"
   ]
  },
  {
   "cell_type": "code",
   "execution_count": 43,
   "metadata": {},
   "outputs": [
    {
     "data": {
      "text/html": [
       "<div>\n",
       "<style scoped>\n",
       "    .dataframe tbody tr th:only-of-type {\n",
       "        vertical-align: middle;\n",
       "    }\n",
       "\n",
       "    .dataframe tbody tr th {\n",
       "        vertical-align: top;\n",
       "    }\n",
       "\n",
       "    .dataframe thead th {\n",
       "        text-align: right;\n",
       "    }\n",
       "</style>\n",
       "<table border=\"1\" class=\"dataframe\">\n",
       "  <thead>\n",
       "    <tr style=\"text-align: right;\">\n",
       "      <th></th>\n",
       "      <th>num_days_involved</th>\n",
       "      <th>num_transactions</th>\n",
       "      <th>money_spent</th>\n",
       "      <th>AOV</th>\n",
       "      <th>CLTV</th>\n",
       "    </tr>\n",
       "  </thead>\n",
       "  <tbody>\n",
       "    <tr>\n",
       "      <th>count</th>\n",
       "      <td>3.773000e+03</td>\n",
       "      <td>3.773000e+03</td>\n",
       "      <td>3.773000e+03</td>\n",
       "      <td>3.773000e+03</td>\n",
       "      <td>3.773000e+03</td>\n",
       "    </tr>\n",
       "    <tr>\n",
       "      <th>mean</th>\n",
       "      <td>1.318261e-17</td>\n",
       "      <td>9.133666e-17</td>\n",
       "      <td>-6.026336e-17</td>\n",
       "      <td>7.532921e-18</td>\n",
       "      <td>2.824845e-18</td>\n",
       "    </tr>\n",
       "    <tr>\n",
       "      <th>std</th>\n",
       "      <td>1.000133e+00</td>\n",
       "      <td>1.000133e+00</td>\n",
       "      <td>1.000133e+00</td>\n",
       "      <td>1.000133e+00</td>\n",
       "      <td>1.000133e+00</td>\n",
       "    </tr>\n",
       "    <tr>\n",
       "      <th>min</th>\n",
       "      <td>-9.514475e-01</td>\n",
       "      <td>-8.232257e-01</td>\n",
       "      <td>-7.240305e-01</td>\n",
       "      <td>-4.534372e-01</td>\n",
       "      <td>-1.915906e-01</td>\n",
       "    </tr>\n",
       "    <tr>\n",
       "      <th>25%</th>\n",
       "      <td>-9.514475e-01</td>\n",
       "      <td>-6.407570e-01</td>\n",
       "      <td>-5.485179e-01</td>\n",
       "      <td>-2.819915e-01</td>\n",
       "      <td>-1.754619e-01</td>\n",
       "    </tr>\n",
       "    <tr>\n",
       "      <th>50%</th>\n",
       "      <td>-3.662377e-01</td>\n",
       "      <td>-3.731363e-01</td>\n",
       "      <td>-3.506289e-01</td>\n",
       "      <td>-1.863494e-01</td>\n",
       "      <td>-1.491715e-01</td>\n",
       "    </tr>\n",
       "    <tr>\n",
       "      <th>75%</th>\n",
       "      <td>8.990808e-01</td>\n",
       "      <td>2.472572e-01</td>\n",
       "      <td>1.386145e-01</td>\n",
       "      <td>-7.317977e-02</td>\n",
       "      <td>-6.492050e-02</td>\n",
       "    </tr>\n",
       "    <tr>\n",
       "      <th>max</th>\n",
       "      <td>1.927152e+00</td>\n",
       "      <td>5.003608e+00</td>\n",
       "      <td>8.601287e+00</td>\n",
       "      <td>2.804707e+01</td>\n",
       "      <td>4.836021e+01</td>\n",
       "    </tr>\n",
       "  </tbody>\n",
       "</table>\n",
       "</div>"
      ],
      "text/plain": [
       "       num_days_involved  num_transactions   money_spent           AOV  \\\n",
       "count       3.773000e+03      3.773000e+03  3.773000e+03  3.773000e+03   \n",
       "mean        1.318261e-17      9.133666e-17 -6.026336e-17  7.532921e-18   \n",
       "std         1.000133e+00      1.000133e+00  1.000133e+00  1.000133e+00   \n",
       "min        -9.514475e-01     -8.232257e-01 -7.240305e-01 -4.534372e-01   \n",
       "25%        -9.514475e-01     -6.407570e-01 -5.485179e-01 -2.819915e-01   \n",
       "50%        -3.662377e-01     -3.731363e-01 -3.506289e-01 -1.863494e-01   \n",
       "75%         8.990808e-01      2.472572e-01  1.386145e-01 -7.317977e-02   \n",
       "max         1.927152e+00      5.003608e+00  8.601287e+00  2.804707e+01   \n",
       "\n",
       "               CLTV  \n",
       "count  3.773000e+03  \n",
       "mean   2.824845e-18  \n",
       "std    1.000133e+00  \n",
       "min   -1.915906e-01  \n",
       "25%   -1.754619e-01  \n",
       "50%   -1.491715e-01  \n",
       "75%   -6.492050e-02  \n",
       "max    4.836021e+01  "
      ]
     },
     "execution_count": 43,
     "metadata": {},
     "output_type": "execute_result"
    }
   ],
   "source": [
    "# Perform Z-score normalization\n",
    "scaled_data = preprocessing.StandardScaler().fit_transform(X)\n",
    "X_Scaled = pd.DataFrame(scaled_data, columns=X.columns, index=X.index)\n",
    "X_Scaled.describe()"
   ]
  },
  {
   "cell_type": "markdown",
   "metadata": {},
   "source": [
    "#### Kmeans"
   ]
  },
  {
   "cell_type": "code",
   "execution_count": 44,
   "metadata": {},
   "outputs": [
    {
     "data": {
      "image/png": "[encoded data removed]",
      "text/plain": [
       "<Figure size 576x432 with 1 Axes>"
      ]
     },
     "metadata": {},
     "output_type": "display_data"
    },
    {
     "name": "stdout",
     "output_type": "stream",
     "text": [
      "\n",
      "The best number of clusters based on shoulder plot are 9\n"
     ]
    }
   ],
   "source": [
    "# Perform K-Means clustering\n",
    "inertias = [] \n",
    "sil_scores = []\n",
    "max_cl = 10\n",
    "K = range(2, max_cl+1) \n",
    "prev_inertia = 10000000\n",
    "tolerance = 0.1 # When change in inertia equals tolerance for the first time, that cluster is the \"shoulder\"\n",
    "num_entries = 0\n",
    "\n",
    "for k in K: \n",
    "    #Building and fitting the model \n",
    "    Kmodel = KMeans(n_clusters=k,\n",
    "                  init='k-means++', #selects initial cluster centers for k-means clustering in a smart way to speed up convergence.\n",
    "                  random_state=42) \n",
    "    Kmodel = Kmodel.fit(X_Scaled)  \n",
    "    score = silhouette_score(X_Scaled, Kmodel.labels_, metric='euclidean')\n",
    "    sil_scores.append(score)\n",
    "    \n",
    "    inertias.append(Kmodel.inertia_)\n",
    "    current_inertia = Kmodel.inertia_\n",
    "    \n",
    "    if (num_entries==0) & ((prev_inertia - current_inertia)/(prev_inertia) < tolerance): # First time the code enters here would be the best cluster (it would represent shoulder)\n",
    "        best_cluster = k\n",
    "        num_entries=1\n",
    "    \n",
    "    prev_inertia = Kmodel.inertia_\n",
    "    \n",
    "plt.figure(figsize=(8, 6))\n",
    "\n",
    "plt.scatter(range (2, max_cl+1), inertias, c='blue')\n",
    "plt.plot(range(2,max_cl+1),inertias)\n",
    "plt.title('Shoulder plot for Kmeans')\n",
    "plt.xlabel('K-Values')\n",
    "plt.ylabel('Inertia')\n",
    "plt.show()\n",
    "\n",
    "print(f\"\\nThe best number of clusters based on shoulder plot are {best_cluster}\")"
   ]
  },
  {
   "cell_type": "code",
   "execution_count": 45,
   "metadata": {},
   "outputs": [
    {
     "data": {
      "image/png": "[encoded data removed]",
      "text/plain": [
       "<Figure size 576x432 with 1 Axes>"
      ]
     },
     "metadata": {},
     "output_type": "display_data"
    },
    {
     "name": "stdout",
     "output_type": "stream",
     "text": [
      "\n",
      "The best number of clusters based on silhouette score are 4\n"
     ]
    }
   ],
   "source": [
    "# Plot silhouette scores and find the K with highest score\n",
    "plt.figure(figsize=(8, 6))\n",
    "plt.scatter(range (2, max_cl+1), sil_scores, c='red')\n",
    "plt.plot(range(2,max_cl+1),sil_scores)\n",
    "plt.xlabel('K')\n",
    "plt.ylabel('Silhouette score')\n",
    "plt.show()\n",
    "\n",
    "print(f\"\\nThe best number of clusters based on silhouette score are {sil_scores.index(max(sil_scores))+2}\")"
   ]
  },
  {
   "cell_type": "code",
   "execution_count": 46,
   "metadata": {},
   "outputs": [
    {
     "name": "stdout",
     "output_type": "stream",
     "text": [
      "Silhouette Score for KMeans: 0.456\n"
     ]
    }
   ],
   "source": [
    "# Create a kmeans model with the best K based on shoulder plot\n",
    "KMeans_model_shoulder = KMeans(n_clusters=best_cluster, init='k-means++', random_state=42)\n",
    "KMeans_model_shoulder = KMeans_model_shoulder.fit(X_Scaled)\n",
    "labels = KMeans_model_shoulder.labels_\n",
    "\n",
    "# Find the silhouette score\n",
    "score = silhouette_score(X_Scaled, KMeans_model_shoulder.labels_, metric='euclidean')\n",
    "print('Silhouette Score for KMeans: %.3f' % score)"
   ]
  },
  {
   "cell_type": "code",
   "execution_count": 47,
   "metadata": {},
   "outputs": [
    {
     "data": {
      "text/plain": [
       "0    1937\n",
       "5     871\n",
       "1     550\n",
       "8     189\n",
       "7      95\n",
       "6      80\n",
       "4      29\n",
       "3      21\n",
       "2       1\n",
       "dtype: int64"
      ]
     },
     "execution_count": 47,
     "metadata": {},
     "output_type": "execute_result"
    }
   ],
   "source": [
    "# Check the cluster distribution\n",
    "pd.Series(labels).value_counts()"
   ]
  },
  {
   "cell_type": "markdown",
   "metadata": {},
   "source": [
    "### As seen above, few of the clusters have very less data."
   ]
  },
  {
   "cell_type": "code",
   "execution_count": 48,
   "metadata": {},
   "outputs": [
    {
     "name": "stdout",
     "output_type": "stream",
     "text": [
      "Silhouette Score for KMeans: 0.514\n"
     ]
    }
   ],
   "source": [
    "# Create a kmeans model with the best K based on silhouette score\n",
    "best_cluster_sil = sil_scores.index(max(sil_scores))+2\n",
    "KMeans_model_sil = KMeans(n_clusters=best_cluster_sil, init='k-means++', random_state=42)\n",
    "KMeans_model_sil = KMeans_model_sil.fit(X_Scaled)\n",
    "labels = KMeans_model_sil.labels_\n",
    "\n",
    "# Find the silhouette score\n",
    "score = silhouette_score(X_Scaled, KMeans_model_sil.labels_, metric='euclidean')\n",
    "print('Silhouette Score for KMeans: %.3f' % score)"
   ]
  },
  {
   "cell_type": "code",
   "execution_count": 49,
   "metadata": {},
   "outputs": [
    {
     "data": {
      "text/plain": [
       "1    2780\n",
       "0     937\n",
       "2      55\n",
       "3       1\n",
       "dtype: int64"
      ]
     },
     "execution_count": 49,
     "metadata": {},
     "output_type": "execute_result"
    }
   ],
   "source": [
    "# Check the cluster distribution\n",
    "pd.Series(labels).value_counts()"
   ]
  },
  {
   "cell_type": "markdown",
   "metadata": {},
   "source": [
    "### Four Clusters formed using silhouette score. But, as seen above we still have clusters with very less customers."
   ]
  },
  {
   "cell_type": "markdown",
   "metadata": {},
   "source": [
    "#### DBSCAN"
   ]
  },
  {
   "cell_type": "code",
   "execution_count": 50,
   "metadata": {
    "collapsed": true
   },
   "outputs": [],
   "source": [
    "neigh = NearestNeighbors(n_neighbors=2)\n",
    "nbrs = neigh.fit(X_Scaled)\n",
    "distances, indices = nbrs.kneighbors(X_Scaled)"
   ]
  },
  {
   "cell_type": "code",
   "execution_count": 51,
   "metadata": {
    "scrolled": true
   },
   "outputs": [
    {
     "data": {
      "text/plain": [
       "[<matplotlib.lines.Line2D at 0x2081d773f70>]"
      ]
     },
     "execution_count": 51,
     "metadata": {},
     "output_type": "execute_result"
    },
    {
     "data": {
      "image/png": "[encoded data removed]",
      "text/plain": [
       "<Figure size 432x288 with 1 Axes>"
      ]
     },
     "metadata": {},
     "output_type": "display_data"
    }
   ],
   "source": [
    "distances = np.sort(distances, axis=0)\n",
    "distances = distances[:,1]\n",
    "plt.plot(distances)"
   ]
  },
  {
   "cell_type": "code",
   "execution_count": 52,
   "metadata": {},
   "outputs": [
    {
     "name": "stdout",
     "output_type": "stream",
     "text": [
      "Estimated number of clusters: 3\n",
      "Estimated number of noise points: 873\n"
     ]
    }
   ],
   "source": [
    "dbscan_model = DBSCAN(eps=0.25, min_samples=10)\n",
    "dbscan_model = dbscan_model.fit(X_Scaled)\n",
    "core_samples_mask = np.zeros_like(dbscan_model.labels_, dtype=bool)\n",
    "core_samples_mask[dbscan_model.core_sample_indices_] = True\n",
    "labels = dbscan_model.labels_\n",
    "\n",
    "# Number of clusters in labels, ignoring noise if present.\n",
    "n_clusters_ = len(set(labels)) - (1 if -1 in labels else 0)\n",
    "n_noise_ = list(labels).count(-1)\n",
    "print('Estimated number of clusters: %d' % n_clusters_)\n",
    "print('Estimated number of noise points: %d' % n_noise_)"
   ]
  },
  {
   "cell_type": "code",
   "execution_count": 53,
   "metadata": {},
   "outputs": [
    {
     "data": {
      "text/plain": [
       " 0    2881\n",
       "-1     873\n",
       " 1      13\n",
       " 2       6\n",
       "dtype: int64"
      ]
     },
     "execution_count": 53,
     "metadata": {},
     "output_type": "execute_result"
    }
   ],
   "source": [
    "# Count of customers in each group(label)\n",
    "pd.Series(labels).value_counts() "
   ]
  },
  {
   "cell_type": "code",
   "execution_count": 54,
   "metadata": {
    "scrolled": true
   },
   "outputs": [
    {
     "name": "stdout",
     "output_type": "stream",
     "text": [
      "Silhouette Score for DbScan: 0.0332168077521621\n"
     ]
    }
   ],
   "source": [
    "# Check Silhouette score of DBSCAN clusters\n",
    "score = silhouette_score(X_Scaled, labels, metric='euclidean')\n",
    "print(f'Silhouette Score for DbScan: {score}')"
   ]
  },
  {
   "cell_type": "code",
   "execution_count": 55,
   "metadata": {},
   "outputs": [
    {
     "name": "stdout",
     "output_type": "stream",
     "text": [
      "Silhouette Score for KMeans: 0.502\n"
     ]
    }
   ],
   "source": [
    "# As seen above DBSCAN has indentified lot of records as noise points, but as we dont want to ignore those points(customers), \n",
    "#   moving with K-means determined clusters.\n",
    "# Also, best number of clusters determined from K-means cluster analysis has got very few data points in two clusters. \n",
    "#   So trying with one less than best clusters from K-means\n",
    "KMeans_model_shoulder = KMeans(n_clusters=best_cluster_sil-1, init='k-means++', random_state=42)\n",
    "KMeans_model_shoulder = KMeans_model_shoulder.fit(X_Scaled)\n",
    "labels = KMeans_model_shoulder.labels_\n",
    "\n",
    "# Check silhoutte score\n",
    "score = silhouette_score(X_Scaled, KMeans_model_shoulder.labels_, metric='euclidean')\n",
    "print('Silhouette Score for KMeans: %.3f' % score)"
   ]
  },
  {
   "cell_type": "code",
   "execution_count": 56,
   "metadata": {},
   "outputs": [
    {
     "data": {
      "text/plain": [
       "0    2840\n",
       "1     932\n",
       "2       1\n",
       "dtype: int64"
      ]
     },
     "execution_count": 56,
     "metadata": {},
     "output_type": "execute_result"
    }
   ],
   "source": [
    "# Count of customers in each group(label)\n",
    "pd.Series(labels).value_counts()"
   ]
  },
  {
   "cell_type": "markdown",
   "metadata": {},
   "source": [
    "- Silhouette score for K=4 is 0.514\n",
    "- Silhouette score for K=3 is 0.502\n",
    "### As K=3 has better distribution of data compared to K=4, and has near about same silhouette score. Considering K=3 for further analysis."
   ]
  },
  {
   "cell_type": "code",
   "execution_count": 57,
   "metadata": {},
   "outputs": [
    {
     "name": "stderr",
     "output_type": "stream",
     "text": [
      "<ipython-input-57-79c83ef61cc5>:3: SettingWithCopyWarning: \n",
      "A value is trying to be set on a copy of a slice from a DataFrame.\n",
      "Try using .loc[row_indexer,col_indexer] = value instead\n",
      "\n",
      "See the caveats in the documentation: https://pandas.pydata.org/pandas-docs/stable/user_guide/indexing.html#returning-a-view-versus-a-copy\n",
      "  trans_group_no_outlier['Cluster_No'] = cluster_number\n"
     ]
    },
    {
     "data": {
      "text/html": [
       "<div>\n",
       "<style scoped>\n",
       "    .dataframe tbody tr th:only-of-type {\n",
       "        vertical-align: middle;\n",
       "    }\n",
       "\n",
       "    .dataframe tbody tr th {\n",
       "        vertical-align: top;\n",
       "    }\n",
       "\n",
       "    .dataframe thead th {\n",
       "        text-align: right;\n",
       "    }\n",
       "</style>\n",
       "<table border=\"1\" class=\"dataframe\">\n",
       "  <thead>\n",
       "    <tr style=\"text-align: right;\">\n",
       "      <th></th>\n",
       "      <th>num_days_involved</th>\n",
       "      <th>num_transactions</th>\n",
       "      <th>num_units</th>\n",
       "      <th>money_spent</th>\n",
       "      <th>AOV</th>\n",
       "      <th>profit_margin</th>\n",
       "      <th>CV</th>\n",
       "      <th>CLTV</th>\n",
       "      <th>Cluster_No</th>\n",
       "    </tr>\n",
       "    <tr>\n",
       "      <th>CustomerID</th>\n",
       "      <th></th>\n",
       "      <th></th>\n",
       "      <th></th>\n",
       "      <th></th>\n",
       "      <th></th>\n",
       "      <th></th>\n",
       "      <th></th>\n",
       "      <th></th>\n",
       "      <th></th>\n",
       "    </tr>\n",
       "  </thead>\n",
       "  <tbody>\n",
       "    <tr>\n",
       "      <th>12747</th>\n",
       "      <td>347</td>\n",
       "      <td>96</td>\n",
       "      <td>1153</td>\n",
       "      <td>3757.51</td>\n",
       "      <td>39.140729</td>\n",
       "      <td>150.3004</td>\n",
       "      <td>194743.821684</td>\n",
       "      <td>292.700743</td>\n",
       "      <td>1</td>\n",
       "    </tr>\n",
       "    <tr>\n",
       "      <th>12749</th>\n",
       "      <td>190</td>\n",
       "      <td>159</td>\n",
       "      <td>1243</td>\n",
       "      <td>3277.82</td>\n",
       "      <td>20.615220</td>\n",
       "      <td>131.1128</td>\n",
       "      <td>102570.566201</td>\n",
       "      <td>134.483141</td>\n",
       "      <td>1</td>\n",
       "    </tr>\n",
       "    <tr>\n",
       "      <th>12820</th>\n",
       "      <td>282</td>\n",
       "      <td>47</td>\n",
       "      <td>607</td>\n",
       "      <td>731.99</td>\n",
       "      <td>15.574255</td>\n",
       "      <td>29.2796</td>\n",
       "      <td>77489.358663</td>\n",
       "      <td>22.688574</td>\n",
       "      <td>0</td>\n",
       "    </tr>\n",
       "    <tr>\n",
       "      <th>12821</th>\n",
       "      <td>0</td>\n",
       "      <td>6</td>\n",
       "      <td>70</td>\n",
       "      <td>92.72</td>\n",
       "      <td>15.453333</td>\n",
       "      <td>3.7088</td>\n",
       "      <td>76887.714030</td>\n",
       "      <td>2.851612</td>\n",
       "      <td>0</td>\n",
       "    </tr>\n",
       "    <tr>\n",
       "      <th>12822</th>\n",
       "      <td>16</td>\n",
       "      <td>46</td>\n",
       "      <td>550</td>\n",
       "      <td>948.88</td>\n",
       "      <td>20.627826</td>\n",
       "      <td>37.9552</td>\n",
       "      <td>102633.286879</td>\n",
       "      <td>38.954669</td>\n",
       "      <td>0</td>\n",
       "    </tr>\n",
       "  </tbody>\n",
       "</table>\n",
       "</div>"
      ],
      "text/plain": [
       "            num_days_involved  num_transactions  num_units  money_spent  \\\n",
       "CustomerID                                                                \n",
       "12747                     347                96       1153      3757.51   \n",
       "12749                     190               159       1243      3277.82   \n",
       "12820                     282                47        607       731.99   \n",
       "12821                       0                 6         70        92.72   \n",
       "12822                      16                46        550       948.88   \n",
       "\n",
       "                  AOV  profit_margin             CV        CLTV  Cluster_No  \n",
       "CustomerID                                                                   \n",
       "12747       39.140729       150.3004  194743.821684  292.700743           1  \n",
       "12749       20.615220       131.1128  102570.566201  134.483141           1  \n",
       "12820       15.574255        29.2796   77489.358663   22.688574           0  \n",
       "12821       15.453333         3.7088   76887.714030    2.851612           0  \n",
       "12822       20.627826        37.9552  102633.286879   38.954669           0  "
      ]
     },
     "execution_count": 57,
     "metadata": {},
     "output_type": "execute_result"
    }
   ],
   "source": [
    "# There is one cluster with only one datapoint in it. So ignoring that cluster for further steps. So, effective number of clusters becomes 2.\n",
    "cluster_number = KMeans_model_shoulder.fit_predict(X_Scaled)\n",
    "trans_group_no_outlier['Cluster_No'] = cluster_number\n",
    "\n",
    "# Remove row with cluster number 2 as it has only one entry\n",
    "final_df = trans_group_no_outlier[trans_group_no_outlier['Cluster_No']!=2]\n",
    "final_df.head()"
   ]
  },
  {
   "cell_type": "code",
   "execution_count": 58,
   "metadata": {},
   "outputs": [
    {
     "data": {
      "image/png": "[encoded data removed]",
      "text/plain": [
       "<Figure size 463.575x360 with 1 Axes>"
      ]
     },
     "metadata": {},
     "output_type": "display_data"
    }
   ],
   "source": [
    "# Additional info\n",
    "sns.displot(data=final_df, x='num_days_involved', hue='Cluster_No', kind='kde')\n",
    "plt.tight_layout()"
   ]
  },
  {
   "cell_type": "markdown",
   "metadata": {},
   "source": [
    "### Classification"
   ]
  },
  {
   "cell_type": "code",
   "execution_count": 59,
   "metadata": {
    "collapsed": true
   },
   "outputs": [],
   "source": [
    "def plot_roc_curve(model, yTest, yPred):  # This works for Binary classifiaction \n",
    "    fpr, tpr, thresholds = roc_curve(yTest, yPred)\n",
    "    roc_auc = auc(fpr, tpr)\n",
    "    lw = 2\n",
    "    Model_accuracy[model] = roc_auc_score(yTest, yPred)\n",
    "    print('AUC roc_auc_score:', roc_auc_score(yTest, yPred))\n",
    "    plt.plot([0,1],[0,1],'k--')\n",
    "    #plt.plot(fpr,tpr, label='ROC curve (area = %0.2f)' % roc_auc)\n",
    "    plt.plot(fpr, tpr, color='darkorange',\n",
    "         lw=lw, label='ROC curve (area = %0.2f)' % roc_auc)\n",
    "    plt.xlabel('fpr')\n",
    "    plt.ylabel('tpr')\n",
    "    plt.title(model)\n",
    "    plt.show()\n",
    "\n",
    "# Outputs all classification metrics\n",
    "def getModelReport(modelName, yTest, yPredict) :\n",
    "    accuracy    = accuracy_score(yTest, yPredict)\n",
    "    precision   = precision_score(yTest, yPredict)\n",
    "    recall      = recall_score(yTest, yPredict)\n",
    "    f1          = f1_score(yTest, yPredict)\n",
    "    conf_matrix = confusion_matrix(yTest, yPredict)\n",
    "    clf_report  = classification_report(yTest, yPredict)\n",
    "\n",
    "    print('\\n\\n*************************************************************************************')\n",
    "    print('FOR {0}:'.format(modelName))\n",
    "    print('ACCURACY:', accuracy)\n",
    "    print('F1 SCORE:', f1)\n",
    "    print('CONFUSION MATRIX: ')\n",
    "    print(conf_matrix)    \n",
    "    print('CLASSIFICATION REPORT: ')\n",
    "    print(clf_report)\n",
    "    print('****************************************************************************************')\n",
    "    return f1\n",
    "\n",
    "# Classification. Pipeline -> Scale - classifier   \n",
    "def classification_model(X_tr, y_tr, X_te, y_te, model, metrics):\n",
    "    pipeline = Pipeline([('scaler', StandardScaler()), ('estimator', model)])\n",
    "    scores   = cross_validate(pipeline, X_tr, y_tr, cv=10, scoring=metrics, return_estimator=True, n_jobs=-1)\n",
    "    \n",
    "    max_index      = scores['test_f1_micro'].argmax()\n",
    "    best_estimator = scores['estimator'][max_index]\n",
    "    \n",
    "    y_pred = best_estimator.predict(X_te) \n",
    "    return y_pred\n",
    "\n",
    "# Function to oversample minority class, such that distribution is 60:40\n",
    "def custom_oversample(target):\n",
    "    prop = pd.Series(np.bincount(target)).sort_values(ascending=False)\n",
    "    # iloc here gives sorted order. That means, first index has highest number of samples, and last index has least samples.\n",
    "    prop.iloc[1] = int(4/6 * prop.iloc[0]) # Makes samples in 60:40 ratio\n",
    "    return prop.to_dict()\n",
    "\n",
    "# Classification. Pipeline -> Scale - Smote - classifier\n",
    "def classification_model_smote(X_tr, y_tr, X_te, y_te, model, metrics):   \n",
    "    over           =  SMOTE(random_state = 42, sampling_strategy=custom_oversample)\n",
    "   \n",
    "    pipeline       =  sm_pipe([('scaler', StandardScaler()), ('smote', over), ('estimator', model)])\n",
    "    scores         =  cross_validate(pipeline, X_tr, y_tr, cv=10, scoring=metrics, return_estimator=True, n_jobs=-1)\n",
    "    \n",
    "    max_index      =  scores['test_f1_micro'].argmax()\n",
    "    best_estimator =  scores['estimator'][max_index] \n",
    "    y_pred         =  best_estimator.predict(X_te)\n",
    "    return y_pred"
   ]
  },
  {
   "cell_type": "code",
   "execution_count": 60,
   "metadata": {},
   "outputs": [
    {
     "data": {
      "text/plain": [
       "Cluster_No\n",
       "0             2840\n",
       "1              932\n",
       "dtype: int64"
      ]
     },
     "execution_count": 60,
     "metadata": {},
     "output_type": "execute_result"
    }
   ],
   "source": [
    "# Check Target Label distribution\n",
    "final_df[['Cluster_No']].value_counts()"
   ]
  },
  {
   "cell_type": "code",
   "execution_count": 61,
   "metadata": {
    "collapsed": true
   },
   "outputs": [],
   "source": [
    "# Prepare training and test datasets using stratified sampling\n",
    "X     =   final_df[['num_days_involved','num_transactions','money_spent','AOV','CLTV']]\n",
    "y     =   final_df[['Cluster_No']]\n",
    "X_train, X_test, y_train, y_test = train_test_split(X, y, test_size=0.1, random_state=42, stratify=y)"
   ]
  },
  {
   "cell_type": "markdown",
   "metadata": {},
   "source": [
    "#### Logistic Regression"
   ]
  },
  {
   "cell_type": "code",
   "execution_count": 62,
   "metadata": {},
   "outputs": [
    {
     "name": "stdout",
     "output_type": "stream",
     "text": [
      "\n",
      "\n",
      "*************************************************************************************\n",
      "FOR Logistic_Regression:\n",
      "ACCURACY: 1.0\n",
      "F1 SCORE: 1.0\n",
      "CONFUSION MATRIX: \n",
      "[[285   0]\n",
      " [  0  93]]\n",
      "CLASSIFICATION REPORT: \n",
      "              precision    recall  f1-score   support\n",
      "\n",
      "           0       1.00      1.00      1.00       285\n",
      "           1       1.00      1.00      1.00        93\n",
      "\n",
      "    accuracy                           1.00       378\n",
      "   macro avg       1.00      1.00      1.00       378\n",
      "weighted avg       1.00      1.00      1.00       378\n",
      "\n",
      "****************************************************************************************\n",
      "AUC roc_auc_score: 1.0\n"
     ]
    },
    {
     "data": {
      "image/png": "[encoded data removed]",
      "text/plain": [
       "<Figure size 432x288 with 1 Axes>"
      ]
     },
     "metadata": {},
     "output_type": "display_data"
    }
   ],
   "source": [
    "logreg        = LogisticRegression()\n",
    "logreg_output = classification_model(X_train, y_train, X_test, y_test, logreg, ('f1_micro','roc_auc_ovr'))\n",
    "\n",
    "# Check the metrics\n",
    "logreg_f1 = getModelReport(\"Logistic_Regression\", y_test, logreg_output)\n",
    "plot_roc_curve(\"Logistic_Regression\", y_test, logreg_output)"
   ]
  },
  {
   "cell_type": "markdown",
   "metadata": {},
   "source": [
    "#### KNN"
   ]
  },
  {
   "cell_type": "code",
   "execution_count": 63,
   "metadata": {},
   "outputs": [
    {
     "name": "stdout",
     "output_type": "stream",
     "text": [
      "\n",
      "\n",
      "*************************************************************************************\n",
      "FOR KNN:\n",
      "ACCURACY: 0.9947089947089947\n",
      "F1 SCORE: 0.9893617021276596\n",
      "CONFUSION MATRIX: \n",
      "[[283   2]\n",
      " [  0  93]]\n",
      "CLASSIFICATION REPORT: \n",
      "              precision    recall  f1-score   support\n",
      "\n",
      "           0       1.00      0.99      1.00       285\n",
      "           1       0.98      1.00      0.99        93\n",
      "\n",
      "    accuracy                           0.99       378\n",
      "   macro avg       0.99      1.00      0.99       378\n",
      "weighted avg       0.99      0.99      0.99       378\n",
      "\n",
      "****************************************************************************************\n",
      "AUC roc_auc_score: 0.9964912280701754\n"
     ]
    },
    {
     "data": {
      "image/png": "[encoded data removed]",
      "text/plain": [
       "<Figure size 432x288 with 1 Axes>"
      ]
     },
     "metadata": {},
     "output_type": "display_data"
    }
   ],
   "source": [
    "knn        = KNeighborsClassifier(n_neighbors=5)\n",
    "knn_output = classification_model(X_train, y_train, X_test, y_test, knn, ('f1_micro', 'roc_auc_ovr'))\n",
    "\n",
    "# Check the metrics\n",
    "knn_f1 = getModelReport(\"KNN\", y_test, knn_output)\n",
    "plot_roc_curve(\"KNN\", y_test, knn_output)"
   ]
  },
  {
   "cell_type": "markdown",
   "metadata": {},
   "source": [
    "#### Random forest"
   ]
  },
  {
   "cell_type": "code",
   "execution_count": 64,
   "metadata": {},
   "outputs": [
    {
     "name": "stdout",
     "output_type": "stream",
     "text": [
      "\n",
      "\n",
      "*************************************************************************************\n",
      "FOR Random_Forest:\n",
      "ACCURACY: 0.9920634920634921\n",
      "F1 SCORE: 0.983957219251337\n",
      "CONFUSION MATRIX: \n",
      "[[283   2]\n",
      " [  1  92]]\n",
      "CLASSIFICATION REPORT: \n",
      "              precision    recall  f1-score   support\n",
      "\n",
      "           0       1.00      0.99      0.99       285\n",
      "           1       0.98      0.99      0.98        93\n",
      "\n",
      "    accuracy                           0.99       378\n",
      "   macro avg       0.99      0.99      0.99       378\n",
      "weighted avg       0.99      0.99      0.99       378\n",
      "\n",
      "****************************************************************************************\n",
      "AUC roc_auc_score: 0.9911148839841539\n"
     ]
    },
    {
     "data": {
      "image/png": "[encoded data removed]",
      "text/plain": [
       "<Figure size 432x288 with 1 Axes>"
      ]
     },
     "metadata": {},
     "output_type": "display_data"
    }
   ],
   "source": [
    "rf        = RandomForestClassifier(n_estimators= 1000, random_state=42)\n",
    "rf_output = classification_model(X_train, y_train, X_test, y_test, rf, ('f1_micro', 'roc_auc_ovr'))\n",
    "\n",
    "# Check the metrics\n",
    "rf_f1 = getModelReport(\"Random_Forest\", y_test, rf_output)\n",
    "plot_roc_curve(\"Random_Forest\", y_test, rf_output)"
   ]
  },
  {
   "cell_type": "markdown",
   "metadata": {},
   "source": [
    "#### SVM"
   ]
  },
  {
   "cell_type": "code",
   "execution_count": 65,
   "metadata": {},
   "outputs": [
    {
     "name": "stdout",
     "output_type": "stream",
     "text": [
      "\n",
      "\n",
      "*************************************************************************************\n",
      "FOR SVM_Linear:\n",
      "ACCURACY: 1.0\n",
      "F1 SCORE: 1.0\n",
      "CONFUSION MATRIX: \n",
      "[[285   0]\n",
      " [  0  93]]\n",
      "CLASSIFICATION REPORT: \n",
      "              precision    recall  f1-score   support\n",
      "\n",
      "           0       1.00      1.00      1.00       285\n",
      "           1       1.00      1.00      1.00        93\n",
      "\n",
      "    accuracy                           1.00       378\n",
      "   macro avg       1.00      1.00      1.00       378\n",
      "weighted avg       1.00      1.00      1.00       378\n",
      "\n",
      "****************************************************************************************\n",
      "AUC roc_auc_score: 1.0\n"
     ]
    },
    {
     "data": {
      "image/png": "[encoded data removed]",
      "text/plain": [
       "<Figure size 432x288 with 1 Axes>"
      ]
     },
     "metadata": {},
     "output_type": "display_data"
    }
   ],
   "source": [
    "# Linear SVM\n",
    "svc_lin        = SVC(kernel='linear', C=100, gamma='auto', probability=True)\n",
    "svc_lin_output = classification_model(X_train, y_train, X_test, y_test, svc_lin, ('f1_micro', 'roc_auc_ovr'))\n",
    "\n",
    "# Check the metrics\n",
    "svc_lin_f1 = getModelReport(\"SVM_Linear\", y_test, svc_lin_output)\n",
    "plot_roc_curve(\"SVM_Linear\", y_test, svc_lin_output)"
   ]
  },
  {
   "cell_type": "code",
   "execution_count": 66,
   "metadata": {},
   "outputs": [
    {
     "name": "stdout",
     "output_type": "stream",
     "text": [
      "\n",
      "\n",
      "*************************************************************************************\n",
      "FOR SVM_RBF:\n",
      "ACCURACY: 1.0\n",
      "F1 SCORE: 1.0\n",
      "CONFUSION MATRIX: \n",
      "[[285   0]\n",
      " [  0  93]]\n",
      "CLASSIFICATION REPORT: \n",
      "              precision    recall  f1-score   support\n",
      "\n",
      "           0       1.00      1.00      1.00       285\n",
      "           1       1.00      1.00      1.00        93\n",
      "\n",
      "    accuracy                           1.00       378\n",
      "   macro avg       1.00      1.00      1.00       378\n",
      "weighted avg       1.00      1.00      1.00       378\n",
      "\n",
      "****************************************************************************************\n",
      "AUC roc_auc_score: 1.0\n"
     ]
    },
    {
     "data": {
      "image/png": "[encoded data removed]",
      "text/plain": [
       "<Figure size 432x288 with 1 Axes>"
      ]
     },
     "metadata": {},
     "output_type": "display_data"
    }
   ],
   "source": [
    "# SVM with RBF Kernal\n",
    "svc_rbf        = SVC(kernel='rbf', C=100, gamma=0.1, probability=True)\n",
    "svc_rbf_output = classification_model(X_train, y_train, X_test, y_test, svc_rbf, ('f1_micro', 'roc_auc_ovr'))\n",
    "\n",
    "# Check the metrics\n",
    "svc_rbf_f1 = getModelReport(\"SVM_RBF\", y_test, svc_rbf_output)\n",
    "plot_roc_curve(\"SVM_RBF\", y_test, svc_rbf_output)"
   ]
  },
  {
   "cell_type": "code",
   "execution_count": 67,
   "metadata": {},
   "outputs": [
    {
     "name": "stdout",
     "output_type": "stream",
     "text": [
      "\n",
      "\n",
      "*************************************************************************************\n",
      "FOR SVM_Poly:\n",
      "ACCURACY: 1.0\n",
      "F1 SCORE: 1.0\n",
      "CONFUSION MATRIX: \n",
      "[[285   0]\n",
      " [  0  93]]\n",
      "CLASSIFICATION REPORT: \n",
      "              precision    recall  f1-score   support\n",
      "\n",
      "           0       1.00      1.00      1.00       285\n",
      "           1       1.00      1.00      1.00        93\n",
      "\n",
      "    accuracy                           1.00       378\n",
      "   macro avg       1.00      1.00      1.00       378\n",
      "weighted avg       1.00      1.00      1.00       378\n",
      "\n",
      "****************************************************************************************\n",
      "AUC roc_auc_score: 1.0\n"
     ]
    },
    {
     "data": {
      "image/png": "[encoded data removed]",
      "text/plain": [
       "<Figure size 432x288 with 1 Axes>"
      ]
     },
     "metadata": {},
     "output_type": "display_data"
    }
   ],
   "source": [
    "# SVM with Polynomial Kernal\n",
    "svc_poly        = SVC(kernel='poly', C=100, gamma='auto', degree=3,coef0=1,probability=True)\n",
    "svc_poly_output = classification_model(X_train, y_train, X_test, y_test, svc_poly, ('f1_micro', 'roc_auc_ovr'))\n",
    "\n",
    "# Check the metrics\n",
    "svc_poly_f1 = getModelReport(\"SVM_Poly\", y_test, svc_poly_output)\n",
    "plot_roc_curve(\"SVM_Poly\", y_test, svc_poly_output)"
   ]
  },
  {
   "cell_type": "markdown",
   "metadata": {},
   "source": [
    "#### Bagging"
   ]
  },
  {
   "cell_type": "code",
   "execution_count": 68,
   "metadata": {},
   "outputs": [
    {
     "name": "stdout",
     "output_type": "stream",
     "text": [
      "\n",
      "\n",
      "*************************************************************************************\n",
      "FOR Bagging:\n",
      "ACCURACY: 0.9947089947089947\n",
      "F1 SCORE: 0.9893617021276596\n",
      "CONFUSION MATRIX: \n",
      "[[283   2]\n",
      " [  0  93]]\n",
      "CLASSIFICATION REPORT: \n",
      "              precision    recall  f1-score   support\n",
      "\n",
      "           0       1.00      0.99      1.00       285\n",
      "           1       0.98      1.00      0.99        93\n",
      "\n",
      "    accuracy                           0.99       378\n",
      "   macro avg       0.99      1.00      0.99       378\n",
      "weighted avg       0.99      0.99      0.99       378\n",
      "\n",
      "****************************************************************************************\n",
      "AUC roc_auc_score: 0.9964912280701754\n"
     ]
    },
    {
     "data": {
      "image/png": "[encoded data removed]",
      "text/plain": [
       "<Figure size 432x288 with 1 Axes>"
      ]
     },
     "metadata": {},
     "output_type": "display_data"
    }
   ],
   "source": [
    "# Bagging Classifier\n",
    "bag        = BaggingClassifier(n_estimators=1000, random_state=42)\n",
    "bag_output = classification_model(X_train, y_train, X_test, y_test, bag, ('f1_micro', 'roc_auc_ovr'))\n",
    "\n",
    "# Check the metrics\n",
    "bag_f1 = getModelReport(\"Bagging\", y_test, bag_output)\n",
    "plot_roc_curve(\"Bagging\", y_test, bag_output)"
   ]
  },
  {
   "cell_type": "markdown",
   "metadata": {},
   "source": [
    "#### Gradient boosting"
   ]
  },
  {
   "cell_type": "code",
   "execution_count": 69,
   "metadata": {},
   "outputs": [
    {
     "name": "stdout",
     "output_type": "stream",
     "text": [
      "\n",
      "\n",
      "*************************************************************************************\n",
      "FOR Gradient_Boosting:\n",
      "ACCURACY: 0.9973544973544973\n",
      "F1 SCORE: 0.9946524064171123\n",
      "CONFUSION MATRIX: \n",
      "[[284   1]\n",
      " [  0  93]]\n",
      "CLASSIFICATION REPORT: \n",
      "              precision    recall  f1-score   support\n",
      "\n",
      "           0       1.00      1.00      1.00       285\n",
      "           1       0.99      1.00      0.99        93\n",
      "\n",
      "    accuracy                           1.00       378\n",
      "   macro avg       0.99      1.00      1.00       378\n",
      "weighted avg       1.00      1.00      1.00       378\n",
      "\n",
      "****************************************************************************************\n",
      "AUC roc_auc_score: 0.9982456140350877\n"
     ]
    },
    {
     "data": {
      "image/png": "[encoded data removed]",
      "text/plain": [
       "<Figure size 432x288 with 1 Axes>"
      ]
     },
     "metadata": {},
     "output_type": "display_data"
    }
   ],
   "source": [
    "gb        = GradientBoostingClassifier(n_estimators=1000, random_state=42)\n",
    "gb_output = classification_model(X_train, y_train, X_test, y_test, gb, ('f1_micro', 'roc_auc_ovr'))\n",
    "\n",
    "# Check the metrics\n",
    "gb_f1 = getModelReport(\"Gradient_Boosting\", y_test, gb_output)\n",
    "plot_roc_curve(\"Gradient_Boosting\", y_test, gb_output)"
   ]
  },
  {
   "cell_type": "markdown",
   "metadata": {},
   "source": [
    "#### MLP"
   ]
  },
  {
   "cell_type": "code",
   "execution_count": 70,
   "metadata": {},
   "outputs": [
    {
     "name": "stdout",
     "output_type": "stream",
     "text": [
      "\n",
      "\n",
      "*************************************************************************************\n",
      "FOR Deep_Network:\n",
      "ACCURACY: 1.0\n",
      "F1 SCORE: 1.0\n",
      "CONFUSION MATRIX: \n",
      "[[285   0]\n",
      " [  0  93]]\n",
      "CLASSIFICATION REPORT: \n",
      "              precision    recall  f1-score   support\n",
      "\n",
      "           0       1.00      1.00      1.00       285\n",
      "           1       1.00      1.00      1.00        93\n",
      "\n",
      "    accuracy                           1.00       378\n",
      "   macro avg       1.00      1.00      1.00       378\n",
      "weighted avg       1.00      1.00      1.00       378\n",
      "\n",
      "****************************************************************************************\n",
      "AUC roc_auc_score: 1.0\n"
     ]
    },
    {
     "data": {
      "image/png": "[encoded data removed]",
      "text/plain": [
       "<Figure size 432x288 with 1 Axes>"
      ]
     },
     "metadata": {},
     "output_type": "display_data"
    }
   ],
   "source": [
    "deepnet        = MLPClassifier(hidden_layer_sizes = (10, 4), solver='sgd', max_iter=1000, random_state=42)\n",
    "deepnet_output = classification_model(X_train, y_train, X_test, y_test, deepnet, ('f1_micro', 'roc_auc_ovr'))\n",
    "\n",
    "# Check the metrics\n",
    "deepnet_f1 = getModelReport(\"Deep_Network\", y_test, deepnet_output)\n",
    "plot_roc_curve(\"Deep_Network\", y_test, deepnet_output)"
   ]
  },
  {
   "cell_type": "code",
   "execution_count": 71,
   "metadata": {
    "collapsed": true
   },
   "outputs": [],
   "source": [
    "# Write the model predictions to a dataframe\n",
    "Model_Predictions_clf = {}\n",
    "Model_Predictions_clf['CustomerID']     = y_test.index\n",
    "Model_Predictions_clf['Class']          = y_test.Cluster_No.to_numpy()\n",
    "\n",
    "Model_Predictions_clf['Logistic_Regression'] = logreg_output\n",
    "Model_Predictions_clf['KNN']                 = knn_output\n",
    "Model_Predictions_clf['Random_Forest']       = rf_output\n",
    "Model_Predictions_clf['SVM_Linear']          = svc_lin_output\n",
    "Model_Predictions_clf['SVM_RBF']             = svc_rbf_output\n",
    "Model_Predictions_clf['SVM_Poly']            = svc_poly_output\n",
    "Model_Predictions_clf['Bagging']             = bag_output\n",
    "Model_Predictions_clf['Gradient_Boosting']   = gb_output\n",
    "Model_Predictions_clf['Deep_Network']        = deepnet_output\n",
    "\n",
    "Model_Predictions_clf = pd.DataFrame.from_dict(Model_Predictions_clf)\n",
    "\n",
    "# Save the final results to a csv file\n",
    "Model_Predictions_clf.to_csv(OutputdataFolder + \"/CustomerClass_Predictions_Classification.csv\", index=False)"
   ]
  },
  {
   "cell_type": "code",
   "execution_count": 72,
   "metadata": {},
   "outputs": [
    {
     "data": {
      "text/plain": [
       "Deep_Network           1.000000\n",
       "SVM_Poly               1.000000\n",
       "SVM_RBF                1.000000\n",
       "SVM_Linear             1.000000\n",
       "Logistic_Regression    1.000000\n",
       "Gradient_Boosting      0.998246\n",
       "Bagging                0.996491\n",
       "KNN                    0.996491\n",
       "Random_Forest          0.991115\n",
       "dtype: float64"
      ]
     },
     "execution_count": 72,
     "metadata": {},
     "output_type": "execute_result"
    }
   ],
   "source": [
    "# Sort the model based on best ROC AUC Score\n",
    "df_AUC_clf = pd.Series(Model_accuracy)\n",
    "df_AUC_clf.sort_values(ascending=False, inplace=True)\n",
    "df_AUC_clf"
   ]
  },
  {
   "cell_type": "markdown",
   "metadata": {},
   "source": [
    " "
   ]
  },
  {
   "cell_type": "markdown",
   "metadata": {},
   "source": [
    "## SMOTE + Classification"
   ]
  },
  {
   "cell_type": "markdown",
   "metadata": {},
   "source": [
    "Though we have good results from classification(above), we just want to explore this technique(SMOTE) of creating synthetic datapoints to balance the dataset."
   ]
  },
  {
   "cell_type": "markdown",
   "metadata": {},
   "source": [
    "#### Logistic Regression"
   ]
  },
  {
   "cell_type": "code",
   "execution_count": 73,
   "metadata": {},
   "outputs": [
    {
     "name": "stdout",
     "output_type": "stream",
     "text": [
      "\n",
      "\n",
      "*************************************************************************************\n",
      "FOR Logistic_Regression_Smote:\n",
      "ACCURACY: 0.9947089947089947\n",
      "F1 SCORE: 0.9893617021276596\n",
      "CONFUSION MATRIX: \n",
      "[[283   2]\n",
      " [  0  93]]\n",
      "CLASSIFICATION REPORT: \n",
      "              precision    recall  f1-score   support\n",
      "\n",
      "           0       1.00      0.99      1.00       285\n",
      "           1       0.98      1.00      0.99        93\n",
      "\n",
      "    accuracy                           0.99       378\n",
      "   macro avg       0.99      1.00      0.99       378\n",
      "weighted avg       0.99      0.99      0.99       378\n",
      "\n",
      "****************************************************************************************\n",
      "AUC roc_auc_score: 0.9964912280701754\n"
     ]
    },
    {
     "data": {
      "image/png": "[encoded data removed]",
      "text/plain": [
       "<Figure size 432x288 with 1 Axes>"
      ]
     },
     "metadata": {},
     "output_type": "display_data"
    }
   ],
   "source": [
    "logreg_smote        = LogisticRegression()\n",
    "logreg_smote_output = classification_model_smote(X_train, y_train, X_test, y_test, logreg_smote, ('f1_micro','roc_auc_ovr'))\n",
    "\n",
    "# Check the metrics\n",
    "getModelReport(\"Logistic_Regression_Smote\", y_test, logreg_smote_output)\n",
    "plot_roc_curve(\"Logistic_Regression_Smote\", y_test, logreg_smote_output)"
   ]
  },
  {
   "cell_type": "markdown",
   "metadata": {},
   "source": [
    "#### KNN"
   ]
  },
  {
   "cell_type": "code",
   "execution_count": 74,
   "metadata": {},
   "outputs": [
    {
     "name": "stdout",
     "output_type": "stream",
     "text": [
      "\n",
      "\n",
      "*************************************************************************************\n",
      "FOR KNN_Smote:\n",
      "ACCURACY: 0.9920634920634921\n",
      "F1 SCORE: 0.9841269841269841\n",
      "CONFUSION MATRIX: \n",
      "[[282   3]\n",
      " [  0  93]]\n",
      "CLASSIFICATION REPORT: \n",
      "              precision    recall  f1-score   support\n",
      "\n",
      "           0       1.00      0.99      0.99       285\n",
      "           1       0.97      1.00      0.98        93\n",
      "\n",
      "    accuracy                           0.99       378\n",
      "   macro avg       0.98      0.99      0.99       378\n",
      "weighted avg       0.99      0.99      0.99       378\n",
      "\n",
      "****************************************************************************************\n",
      "AUC roc_auc_score: 0.9947368421052631\n"
     ]
    },
    {
     "data": {
      "image/png": "[encoded data removed]",
      "text/plain": [
       "<Figure size 432x288 with 1 Axes>"
      ]
     },
     "metadata": {},
     "output_type": "display_data"
    }
   ],
   "source": [
    "knn_smote        = KNeighborsClassifier(n_neighbors=5)\n",
    "knn_smote_output = classification_model_smote(X_train, y_train, X_test, y_test, knn_smote, ('f1_micro', 'roc_auc_ovr'))\n",
    "\n",
    "# Check the metrics\n",
    "getModelReport(\"KNN_Smote\", y_test, knn_smote_output)\n",
    "plot_roc_curve(\"KNN_Smote\", y_test, knn_smote_output)"
   ]
  },
  {
   "cell_type": "markdown",
   "metadata": {},
   "source": [
    "#### Random forest"
   ]
  },
  {
   "cell_type": "code",
   "execution_count": 75,
   "metadata": {},
   "outputs": [
    {
     "name": "stdout",
     "output_type": "stream",
     "text": [
      "\n",
      "\n",
      "*************************************************************************************\n",
      "FOR Random_Forest_Smote:\n",
      "ACCURACY: 0.9894179894179894\n",
      "F1 SCORE: 0.9787234042553192\n",
      "CONFUSION MATRIX: \n",
      "[[282   3]\n",
      " [  1  92]]\n",
      "CLASSIFICATION REPORT: \n",
      "              precision    recall  f1-score   support\n",
      "\n",
      "           0       1.00      0.99      0.99       285\n",
      "           1       0.97      0.99      0.98        93\n",
      "\n",
      "    accuracy                           0.99       378\n",
      "   macro avg       0.98      0.99      0.99       378\n",
      "weighted avg       0.99      0.99      0.99       378\n",
      "\n",
      "****************************************************************************************\n",
      "AUC roc_auc_score: 0.9893604980192416\n"
     ]
    },
    {
     "data": {
      "image/png": "[encoded data removed]",
      "text/plain": [
       "<Figure size 432x288 with 1 Axes>"
      ]
     },
     "metadata": {},
     "output_type": "display_data"
    }
   ],
   "source": [
    "rf_smote        = RandomForestClassifier(n_estimators= 1000, random_state=42)\n",
    "rf_smote_output = classification_model_smote(X_train, y_train, X_test, y_test, rf_smote, ('f1_micro', 'roc_auc_ovr'))\n",
    "\n",
    "# Check the metrics\n",
    "getModelReport(\"Random_Forest_Smote\", y_test, rf_smote_output)\n",
    "plot_roc_curve(\"Random_Forest_Smote\", y_test, rf_smote_output)"
   ]
  },
  {
   "cell_type": "markdown",
   "metadata": {},
   "source": [
    "#### SVM"
   ]
  },
  {
   "cell_type": "code",
   "execution_count": 76,
   "metadata": {},
   "outputs": [
    {
     "name": "stdout",
     "output_type": "stream",
     "text": [
      "\n",
      "\n",
      "*************************************************************************************\n",
      "FOR SVM_Linear_Smote:\n",
      "ACCURACY: 1.0\n",
      "F1 SCORE: 1.0\n",
      "CONFUSION MATRIX: \n",
      "[[285   0]\n",
      " [  0  93]]\n",
      "CLASSIFICATION REPORT: \n",
      "              precision    recall  f1-score   support\n",
      "\n",
      "           0       1.00      1.00      1.00       285\n",
      "           1       1.00      1.00      1.00        93\n",
      "\n",
      "    accuracy                           1.00       378\n",
      "   macro avg       1.00      1.00      1.00       378\n",
      "weighted avg       1.00      1.00      1.00       378\n",
      "\n",
      "****************************************************************************************\n",
      "AUC roc_auc_score: 1.0\n"
     ]
    },
    {
     "data": {
      "image/png": "[encoded data removed]",
      "text/plain": [
       "<Figure size 432x288 with 1 Axes>"
      ]
     },
     "metadata": {},
     "output_type": "display_data"
    }
   ],
   "source": [
    "# Linear SVM\n",
    "svc_lin_smote        = SVC(kernel='linear', C=100, gamma='auto', probability=True)\n",
    "svc_lin_smote_output = classification_model_smote(X_train, y_train, X_test, y_test, svc_lin_smote, ('f1_micro', 'roc_auc_ovr'))\n",
    "\n",
    "# Check the metrics\n",
    "getModelReport(\"SVM_Linear_Smote\", y_test, svc_lin_smote_output)\n",
    "plot_roc_curve(\"SVM_Linear_Smote\", y_test, svc_lin_smote_output)"
   ]
  },
  {
   "cell_type": "code",
   "execution_count": 77,
   "metadata": {},
   "outputs": [
    {
     "name": "stdout",
     "output_type": "stream",
     "text": [
      "\n",
      "\n",
      "*************************************************************************************\n",
      "FOR SVM_RBF_Smote:\n",
      "ACCURACY: 1.0\n",
      "F1 SCORE: 1.0\n",
      "CONFUSION MATRIX: \n",
      "[[285   0]\n",
      " [  0  93]]\n",
      "CLASSIFICATION REPORT: \n",
      "              precision    recall  f1-score   support\n",
      "\n",
      "           0       1.00      1.00      1.00       285\n",
      "           1       1.00      1.00      1.00        93\n",
      "\n",
      "    accuracy                           1.00       378\n",
      "   macro avg       1.00      1.00      1.00       378\n",
      "weighted avg       1.00      1.00      1.00       378\n",
      "\n",
      "****************************************************************************************\n",
      "AUC roc_auc_score: 1.0\n"
     ]
    },
    {
     "data": {
      "image/png": "[encoded data removed]",
      "text/plain": [
       "<Figure size 432x288 with 1 Axes>"
      ]
     },
     "metadata": {},
     "output_type": "display_data"
    }
   ],
   "source": [
    "# SVM with RBF Kernal\n",
    "svc_rbf_smote        = SVC(kernel='rbf', C=100, gamma=0.1, probability=True)\n",
    "svc_rbf_smote_output = classification_model_smote(X_train, y_train, X_test, y_test, svc_rbf_smote, ('f1_micro', 'roc_auc_ovr'))\n",
    "\n",
    "# Check the metrics\n",
    "getModelReport(\"SVM_RBF_Smote\", y_test, svc_rbf_smote_output)\n",
    "plot_roc_curve(\"SVM_RBF_Smote\", y_test, svc_rbf_smote_output)"
   ]
  },
  {
   "cell_type": "code",
   "execution_count": 78,
   "metadata": {},
   "outputs": [
    {
     "name": "stdout",
     "output_type": "stream",
     "text": [
      "\n",
      "\n",
      "*************************************************************************************\n",
      "FOR SVM_Poly_Smote:\n",
      "ACCURACY: 1.0\n",
      "F1 SCORE: 1.0\n",
      "CONFUSION MATRIX: \n",
      "[[285   0]\n",
      " [  0  93]]\n",
      "CLASSIFICATION REPORT: \n",
      "              precision    recall  f1-score   support\n",
      "\n",
      "           0       1.00      1.00      1.00       285\n",
      "           1       1.00      1.00      1.00        93\n",
      "\n",
      "    accuracy                           1.00       378\n",
      "   macro avg       1.00      1.00      1.00       378\n",
      "weighted avg       1.00      1.00      1.00       378\n",
      "\n",
      "****************************************************************************************\n",
      "AUC roc_auc_score: 1.0\n"
     ]
    },
    {
     "data": {
      "image/png": "[encoded data removed]",
      "text/plain": [
       "<Figure size 432x288 with 1 Axes>"
      ]
     },
     "metadata": {},
     "output_type": "display_data"
    }
   ],
   "source": [
    "# SVM with Polynomial Kernal\n",
    "svc_poly_smote        = SVC(kernel='poly', C=100, gamma='auto', degree=3, coef0=1, probability=True)\n",
    "svc_poly_smote_output = classification_model_smote(X_train, y_train, X_test, y_test, svc_poly_smote, ('f1_micro', 'roc_auc_ovr'))\n",
    "\n",
    "# Check the metrics\n",
    "getModelReport(\"SVM_Poly_Smote\", y_test, svc_poly_smote_output)\n",
    "plot_roc_curve(\"SVM_Poly_Smote\", y_test, svc_poly_smote_output)"
   ]
  },
  {
   "cell_type": "markdown",
   "metadata": {},
   "source": [
    "#### Bagging"
   ]
  },
  {
   "cell_type": "code",
   "execution_count": 79,
   "metadata": {},
   "outputs": [
    {
     "name": "stdout",
     "output_type": "stream",
     "text": [
      "\n",
      "\n",
      "*************************************************************************************\n",
      "FOR Bagging_Smote:\n",
      "ACCURACY: 0.9894179894179894\n",
      "F1 SCORE: 0.9787234042553192\n",
      "CONFUSION MATRIX: \n",
      "[[282   3]\n",
      " [  1  92]]\n",
      "CLASSIFICATION REPORT: \n",
      "              precision    recall  f1-score   support\n",
      "\n",
      "           0       1.00      0.99      0.99       285\n",
      "           1       0.97      0.99      0.98        93\n",
      "\n",
      "    accuracy                           0.99       378\n",
      "   macro avg       0.98      0.99      0.99       378\n",
      "weighted avg       0.99      0.99      0.99       378\n",
      "\n",
      "****************************************************************************************\n",
      "AUC roc_auc_score: 0.9893604980192416\n"
     ]
    },
    {
     "data": {
      "image/png": "[encoded data removed]",
      "text/plain": [
       "<Figure size 432x288 with 1 Axes>"
      ]
     },
     "metadata": {},
     "output_type": "display_data"
    }
   ],
   "source": [
    "# Bagging Classifier\n",
    "bag_smote        = BaggingClassifier(n_estimators=1000, random_state=42)\n",
    "bag_smote_output = classification_model_smote(X_train, y_train, X_test, y_test, bag_smote, ('f1_micro', 'roc_auc_ovr'))\n",
    "\n",
    "# Check the metrics\n",
    "getModelReport(\"Bagging_Smote\", y_test, bag_smote_output)\n",
    "plot_roc_curve(\"Bagging_Smote\", y_test, bag_smote_output)"
   ]
  },
  {
   "cell_type": "markdown",
   "metadata": {},
   "source": [
    "#### Gradient boosting"
   ]
  },
  {
   "cell_type": "code",
   "execution_count": 80,
   "metadata": {},
   "outputs": [
    {
     "name": "stdout",
     "output_type": "stream",
     "text": [
      "\n",
      "\n",
      "*************************************************************************************\n",
      "FOR Gradient_Boosting_Smote:\n",
      "ACCURACY: 0.9947089947089947\n",
      "F1 SCORE: 0.9893617021276596\n",
      "CONFUSION MATRIX: \n",
      "[[283   2]\n",
      " [  0  93]]\n",
      "CLASSIFICATION REPORT: \n",
      "              precision    recall  f1-score   support\n",
      "\n",
      "           0       1.00      0.99      1.00       285\n",
      "           1       0.98      1.00      0.99        93\n",
      "\n",
      "    accuracy                           0.99       378\n",
      "   macro avg       0.99      1.00      0.99       378\n",
      "weighted avg       0.99      0.99      0.99       378\n",
      "\n",
      "****************************************************************************************\n",
      "AUC roc_auc_score: 0.9964912280701754\n"
     ]
    },
    {
     "data": {
      "image/png": "[encoded data removed]",
      "text/plain": [
       "<Figure size 432x288 with 1 Axes>"
      ]
     },
     "metadata": {},
     "output_type": "display_data"
    }
   ],
   "source": [
    "gb_smote        = GradientBoostingClassifier(n_estimators=1000, random_state=42)\n",
    "gb_smote_output = classification_model_smote(X_train, y_train, X_test, y_test, gb_smote, ('f1_micro', 'roc_auc_ovr'))\n",
    "\n",
    "# Check the metrics\n",
    "getModelReport(\"Gradient_Boosting_Smote\", y_test, gb_smote_output)\n",
    "plot_roc_curve(\"Gradient_Boosting_Smote\", y_test, gb_smote_output)"
   ]
  },
  {
   "cell_type": "markdown",
   "metadata": {},
   "source": [
    "#### MLP"
   ]
  },
  {
   "cell_type": "code",
   "execution_count": null,
   "metadata": {
    "collapsed": true
   },
   "outputs": [],
   "source": [
    "deepnet_smote        = MLPClassifier(hidden_layer_sizes = (10, 4), solver='sgd', max_iter=1000, random_state=42)\n",
    "deepnet_smote_output = classification_model_smote(X_train, y_train, X_test, y_test, deepnet_smote, ('f1_micro', 'roc_auc_ovr'))\n",
    "\n",
    "# Check the metrics\n",
    "getModelReport(\"Deep_Network_Smote\", y_test, deepnet_smote_output)\n",
    "plot_roc_curve(\"Deep_Network_Smote\", y_test, deepnet_smote_output)"
   ]
  }
 ],
 "metadata": {
  "kernelspec": {
   "display_name": "Python 3",
   "language": "python",
   "name": "python3"
  },
  "language_info": {
   "codemirror_mode": {
    "name": "ipython",
    "version": 3
   },
   "file_extension": ".py",
   "mimetype": "text/x-python",
   "name": "python",
   "nbconvert_exporter": "python",
   "pygments_lexer": "ipython3",
   "version": "3.6.1"
  }
 },
 "nbformat": 4,
 "nbformat_minor": 4
}
